{
  "nbformat": 4,
  "nbformat_minor": 0,
  "metadata": {
    "colab": {
      "name": "vocabulary.ipynb",
      "version": "0.3.2",
      "provenance": []
    },
    "kernelspec": {
      "name": "python2",
      "display_name": "Python 2"
    }
  },
  "cells": [
    {
      "cell_type": "code",
      "metadata": {
        "id": "g11hPEYnbSS_",
        "colab_type": "code",
        "colab": {}
      },
      "source": [
        ""
      ],
      "execution_count": 0,
      "outputs": []
    },
    {
      "cell_type": "code",
      "metadata": {
        "id": "Fll9teRGbed1",
        "colab_type": "code",
        "outputId": "aa1c8064-9b84-452c-bd05-c70f7d905260",
        "colab": {
          "base_uri": "https://localhost:8080/",
          "height": 35
        }
      },
      "source": [
        "#Linking the Google colab to google drive\n",
        "from google.colab import drive\n",
        "drive.mount('/content/drive/')"
      ],
      "execution_count": 0,
      "outputs": [
        {
          "output_type": "stream",
          "text": [
            "Drive already mounted at /content/drive/; to attempt to forcibly remount, call drive.mount(\"/content/drive/\", force_remount=True).\n"
          ],
          "name": "stdout"
        }
      ]
    },
    {
      "cell_type": "code",
      "metadata": {
        "id": "xrxIpb57cuaO",
        "colab_type": "code",
        "colab": {}
      },
      "source": [
        "filename = '/content/drive/My Drive/Summarizer_Dataset/tokens_10000.pkl'    #File Location to load after pre-processing\n"
      ],
      "execution_count": 0,
      "outputs": []
    },
    {
      "cell_type": "code",
      "metadata": {
        "id": "y_HJrUoTcxQI",
        "colab_type": "code",
        "colab": {}
      },
      "source": [
        "FN = 'vocabulary-embedding'\n",
        "seed=42\n",
        "vocab_size = 40000\n",
        "embedding_dim = 100\n",
        "lower = False # dont lower case the text\n"
      ],
      "execution_count": 0,
      "outputs": []
    },
    {
      "cell_type": "code",
      "metadata": {
        "id": "a7yLnF-ncy-8",
        "colab_type": "code",
        "colab": {}
      },
      "source": [
        "import cPickle as pickle\n",
        "FN0 = 'tokens' # this is the name of the data file which I assume you already have\n",
        "with open('/content/drive/My Drive/Summarizer_dataset/tokens_10000 (1).pkl', 'rb') as fp:\n",
        "    heads, desc, keywords = pickle.load(fp) # keywords are not used in this project"
      ],
      "execution_count": 0,
      "outputs": []
    },
    {
      "cell_type": "code",
      "metadata": {
        "id": "D6zK4tDHdXXY",
        "colab_type": "code",
        "colab": {}
      },
      "source": [
        "if lower:\n",
        "    heads = [h.lower() for h in heads]"
      ],
      "execution_count": 0,
      "outputs": []
    },
    {
      "cell_type": "code",
      "metadata": {
        "id": "tNYgP6aTfDLA",
        "colab_type": "code",
        "colab": {}
      },
      "source": [
        "if lower:\n",
        "    desc = [h.lower() for h in desc]"
      ],
      "execution_count": 0,
      "outputs": []
    },
    {
      "cell_type": "code",
      "metadata": {
        "id": "nnMbJ6rmfE_z",
        "colab_type": "code",
        "outputId": "a2bc4297-6859-4735-b688-819630804497",
        "colab": {
          "base_uri": "https://localhost:8080/",
          "height": 55
        }
      },
      "source": [
        "i=0\n",
        "heads[i]\n",
        "desc[i]"
      ],
      "execution_count": 0,
      "outputs": [
        {
          "output_type": "execute_result",
          "data": {
            "text/plain": [
              "u'VETERANS saluted Worcester\\'s first ever breakfast club for ex-soldiers which won over hearts, minds and bellies.  The Worcester Breakfast Club for HM Forces Veterans met at the Postal Order in Foregate Street at 10am on Saturday.  The club is designed to allow veterans a place to meet, socialise, eat and drink, giving hunger and loneliness their marching orders.  Father-of-two Dave Carney, aged 43, of Merrimans Hill, Worcester, set up the club after being inspired by other similar clubs across the country.  He said: \"As you can see from the picture, we had a good response. Five out of the 10 that attended said they saw the article in the newspaper and turned up.  \"We even had an old chap travel from Droitwich and he was late on parade by three hours.  \"It\\'s generated a lot of interest and I estimate (from other veterans who saw the article) that next month\\'s meeting will attract about 20 people. Onwards and upwards.\"  He said the management at the pub had been extremely hospitable to them.  Mr Carney said: \"They bent over backwards for us. They really looked after us well. That is the best choice of venue I could have made. They even put \\'reserved for the armed forces\\'. Promoted stories The reserve veteran with the Royal Engineers wanted to go to a breakfast club but found the nearest ones were in Bromsgrove and Gloucester so he decided to set up his own, closer to home.  He was influenced by Derek Hardman who set up a breakfast club for veterans in Hull and Andy Wilson who set one up in Newcastle. He said the idea has snowballed and there were now 70 similar clubs across the country and even some in Germany.  Mr Carney said with many Royal British Legion clubs closing he wanted veterans and serving personnel to feel they had somewhere they could go for good grub, beer and banter to recapture the comradery of being in the forces.  The Postal Order was chosen because of its central location and its proximity to the railway station and hotels and reasonably priced food and drink.  The management of the pub have even given the veterans a designated area within the pub.  Share article  The next meeting is at the Postal Order on Saturday, October 3 at 10am.  The breakfast club meets on the first Saturday of each month for those who want to attend in future.'"
            ]
          },
          "metadata": {
            "tags": []
          },
          "execution_count": 12
        }
      ]
    },
    {
      "cell_type": "code",
      "metadata": {
        "id": "FI745XzUfGfU",
        "colab_type": "code",
        "outputId": "3fbad5b4-2249-4480-babd-b412d169d6ee",
        "colab": {
          "base_uri": "https://localhost:8080/",
          "height": 35
        }
      },
      "source": [
        "  len(heads),len(set(heads))"
      ],
      "execution_count": 0,
      "outputs": [
        {
          "output_type": "execute_result",
          "data": {
            "text/plain": [
              "(10000, 9941)"
            ]
          },
          "metadata": {
            "tags": []
          },
          "execution_count": 13
        }
      ]
    },
    {
      "cell_type": "code",
      "metadata": {
        "id": "L7MvRDMJfLxj",
        "colab_type": "code",
        "outputId": "81dd8d8e-d11c-4469-9921-7cf14894fc2c",
        "colab": {
          "base_uri": "https://localhost:8080/",
          "height": 35
        }
      },
      "source": [
        "len(desc),len(set(desc))"
      ],
      "execution_count": 0,
      "outputs": [
        {
          "output_type": "execute_result",
          "data": {
            "text/plain": [
              "(10000, 9899)"
            ]
          },
          "metadata": {
            "tags": []
          },
          "execution_count": 14
        }
      ]
    },
    {
      "cell_type": "code",
      "metadata": {
        "id": "9LAkX2bEfOR2",
        "colab_type": "code",
        "colab": {}
      },
      "source": [
        "from collections import Counter\n",
        "from itertools import chain\n",
        "def get_vocab(lst):\n",
        "    vocabcount = Counter(w for txt in lst for w in txt.split())\n",
        "    vocab = map(lambda x: x[0], sorted(vocabcount.items(), key=lambda x: -x[1]))\n",
        "    return vocab, vocabcount"
      ],
      "execution_count": 0,
      "outputs": []
    },
    {
      "cell_type": "code",
      "metadata": {
        "id": "pjemr7c3fRQK",
        "colab_type": "code",
        "colab": {}
      },
      "source": [
        "vocab, vocabcount = get_vocab(heads+desc)"
      ],
      "execution_count": 0,
      "outputs": []
    },
    {
      "cell_type": "code",
      "metadata": {
        "id": "g_gZtHeHfTTf",
        "colab_type": "code",
        "outputId": "97c5ab95-e5a3-4b9c-f888-e17087786ab9",
        "colab": {
          "base_uri": "https://localhost:8080/",
          "height": 74
        }
      },
      "source": [
        "print vocab[:50]\n",
        "print '...',len(vocab)"
      ],
      "execution_count": 0,
      "outputs": [
        {
          "output_type": "stream",
          "text": [
            "[u'the', u'and', u'to', u'of', u'a', u'in', u'for', u'is', u'on', u'that', u'with', u'The', u'at', u'as', u'was', u'be', u'by', u'are', u'from', u'have', u'has', u'it', u'will', u'I', u'this', u'an', u'or', u'you', u'not', u'his', u'he', u'their', u'-', u'more', u'but', u'said', u'who', u'they', u'we', u'which', u'can', u'about', u'its', u'been', u'our', u'all', u'were', u'had', u'your', u'one']\n",
            "... 289380\n"
          ],
          "name": "stdout"
        }
      ]
    },
    {
      "cell_type": "code",
      "metadata": {
        "id": "wyiE_n8WfWRq",
        "colab_type": "code",
        "outputId": "258b17d1-e68a-4c4a-811e-1d3441ac3368",
        "colab": {
          "base_uri": "https://localhost:8080/",
          "height": 298
        }
      },
      "source": [
        "import matplotlib.pyplot as plt\n",
        "%matplotlib inline\n",
        "plt.plot([vocabcount[w] for w in vocab]);\n",
        "plt.gca().set_xscale(\"log\", nonposx='clip')\n",
        "plt.gca().set_yscale(\"log\", nonposy='clip')\n",
        "plt.title('word distribution in headlines and discription')\n",
        "plt.xlabel('rank')\n",
        "plt.ylabel('total appearances');"
      ],
      "execution_count": 0,
      "outputs": [
        {
          "output_type": "display_data",
          "data": {
            "image/png": "[encoded data removed]",
            "text/plain": [
              "<Figure size 432x288 with 1 Axes>"
            ]
          },
          "metadata": {
            "tags": []
          }
        }
      ]
    },
    {
      "cell_type": "code",
      "metadata": {
        "id": "8xhPeKHjfoj4",
        "colab_type": "code",
        "colab": {}
      },
      "source": [
        "empty = 0 # RNN mask of no data\n",
        "eos = 1  # end of sentence\n",
        "start_idx = eos+1 # first real word"
      ],
      "execution_count": 0,
      "outputs": []
    },
    {
      "cell_type": "code",
      "metadata": {
        "id": "4N5hpePFftol",
        "colab_type": "code",
        "colab": {}
      },
      "source": [
        "def get_idx(vocab, vocabcount):\n",
        "    word2idx = dict((word, idx+start_idx) for idx,word in enumerate(vocab))\n",
        "    word2idx['<empty>'] = empty\n",
        "    word2idx['<eos>'] = eos\n",
        "    \n",
        "    idx2word = dict((idx,word) for word,idx in word2idx.iteritems())\n",
        "\n",
        "    return word2idx, idx2word"
      ],
      "execution_count": 0,
      "outputs": []
    },
    {
      "cell_type": "code",
      "metadata": {
        "id": "R5E3VZRzfvXR",
        "colab_type": "code",
        "colab": {}
      },
      "source": [
        "word2idx, idx2word = get_idx(vocab, vocabcount)"
      ],
      "execution_count": 0,
      "outputs": []
    },
    {
      "cell_type": "code",
      "metadata": {
        "id": "ZREVPqXjfxL2",
        "colab_type": "code",
        "outputId": "72450cb4-35a0-4c9d-c32a-51b766be9ccf",
        "colab": {
          "base_uri": "https://localhost:8080/",
          "height": 183
        }
      },
      "source": [
        "fname = 'glove.6B.%dd.txt'%embedding_dim\n",
        "from keras.utils import get_file\n",
        "path = 'glove.6B.zip'\n",
        "path = get_file(path, origin=\"http://nlp.stanford.edu/data/glove.6B.zip\", cache_dir='/content/drive/My\\ Drive/Summarizer_dataset')\n",
        "!unzip {'/content/drive/My\\ Drive/Summarizer_dataset'}/{'glove.6B.zip'}"
      ],
      "execution_count": 0,
      "outputs": [
        {
          "output_type": "stream",
          "text": [
            "Using TensorFlow backend.\n"
          ],
          "name": "stderr"
        },
        {
          "output_type": "stream",
          "text": [
            "Downloading data from http://nlp.stanford.edu/data/glove.6B.zip\n",
            "862183424/862182613 [==============================] - 216s 0us/step\n",
            "862191616/862182613 [==============================] - 216s 0us/step\n",
            "Archive:  /content/drive/My Drive/Summarizer_dataset/glove.6B.zip\n",
            "  inflating: glove.6B.50d.txt        \n",
            "  inflating: glove.6B.100d.txt       \n",
            "  inflating: glove.6B.200d.txt       \n",
            "  inflating: glove.6B.300d.txt       \n"
          ],
          "name": "stdout"
        }
      ]
    },
    {
      "cell_type": "code",
      "metadata": {
        "id": "y9qRrc7fgUMK",
        "colab_type": "code",
        "outputId": "44b2ead7-a6c2-496e-d891-680ba7ee8615",
        "colab": {
          "base_uri": "https://localhost:8080/",
          "height": 35
        }
      },
      "source": [
        "glove_name = './' + fname\n",
        "glove_n_symbols = !wc -l {glove_name}\n",
        "glove_n_symbols = int(glove_n_symbols[0].split()[0])\n",
        "glove_n_symbols\n"
      ],
      "execution_count": 0,
      "outputs": [
        {
          "output_type": "execute_result",
          "data": {
            "text/plain": [
              "400000"
            ]
          },
          "metadata": {
            "tags": []
          },
          "execution_count": 24
        }
      ]
    },
    {
      "cell_type": "code",
      "metadata": {
        "id": "SKpjBfJ7jv0X",
        "colab_type": "code",
        "colab": {}
      },
      "source": [
        "import numpy as np\n",
        "glove_index_dict = {}\n",
        "glove_embedding_weights = np.empty((glove_n_symbols, embedding_dim))\n",
        "globale_scale=.1\n",
        "with open(glove_name, 'r') as fp:\n",
        "    i = 0\n",
        "    for l in fp:\n",
        "        l = l.strip().split()\n",
        "        w = l[0]\n",
        "        glove_index_dict[w] = i\n",
        "        glove_embedding_weights[i,:] = map(float,l[1:])\n",
        "        i += 1\n",
        "glove_embedding_weights *= globale_scale"
      ],
      "execution_count": 0,
      "outputs": []
    },
    {
      "cell_type": "code",
      "metadata": {
        "id": "PKBA1wiEkRJW",
        "colab_type": "code",
        "outputId": "b6cee2fe-d416-46b4-f464-252c3e907a4a",
        "colab": {
          "base_uri": "https://localhost:8080/",
          "height": 35
        }
      },
      "source": [
        "glove_embedding_weights.std()"
      ],
      "execution_count": 0,
      "outputs": [
        {
          "output_type": "execute_result",
          "data": {
            "text/plain": [
              "0.04081572760019029"
            ]
          },
          "metadata": {
            "tags": []
          },
          "execution_count": 26
        }
      ]
    },
    {
      "cell_type": "code",
      "metadata": {
        "id": "Y40_SeedkYwt",
        "colab_type": "code",
        "colab": {}
      },
      "source": [
        "for w,i in glove_index_dict.iteritems():\n",
        "    w = w.lower()\n",
        "    if w not in glove_index_dict:\n",
        "        glove_index_dict[w] = i"
      ],
      "execution_count": 0,
      "outputs": []
    },
    {
      "cell_type": "code",
      "metadata": {
        "id": "0T0wryUZkmj5",
        "colab_type": "code",
        "outputId": "28f757b2-309d-44b6-fa20-8227492db856",
        "colab": {
          "base_uri": "https://localhost:8080/",
          "height": 54
        }
      },
      "source": [
        "# generate random embedding with same scale as glove\n",
        "np.random.seed(seed)\n",
        "shape = (vocab_size, embedding_dim)\n",
        "scale = glove_embedding_weights.std()*np.sqrt(12)/2 # uniform and not normal\n",
        "embedding = np.random.uniform(low=-scale, high=scale, size=shape)\n",
        "print 'random-embedding/glove scale', scale, 'std', embedding.std()\n",
        "\n",
        "# copy from glove weights of words that appear in our short vocabulary (idx2word)\n",
        "c = 0\n",
        "for i in range(vocab_size):\n",
        "    w = idx2word[i]\n",
        "    g = glove_index_dict.get(w, glove_index_dict.get(w.lower()))\n",
        "    if g is None and w.startswith('#'): # glove has no hastags (I think...)\n",
        "        w = w[1:]\n",
        "        g = glove_index_dict.get(w, glove_index_dict.get(w.lower()))\n",
        "    if g is not None:\n",
        "        embedding[i,:] = glove_embedding_weights[g,:]\n",
        "        c+=1\n",
        "print 'number of tokens, in small vocab, found in glove and copied to embedding', c,c/float(vocab_size)"
      ],
      "execution_count": 0,
      "outputs": [
        {
          "output_type": "stream",
          "text": [
            "random-embedding/glove scale 0.0706949139514209 std 0.04081382495746382\n",
            "number of tokens, in small vocab, found in glove and copied to embedding 27200 0.68\n"
          ],
          "name": "stdout"
        }
      ]
    },
    {
      "cell_type": "code",
      "metadata": {
        "id": "D8VA-39Kk8gd",
        "colab_type": "code",
        "colab": {}
      },
      "source": [
        "glove_thr = 0.5"
      ],
      "execution_count": 0,
      "outputs": []
    },
    {
      "cell_type": "code",
      "metadata": {
        "id": "6mSQ62nYk_G_",
        "colab_type": "code",
        "colab": {}
      },
      "source": [
        "word2glove = {}\n",
        "for w in word2idx:\n",
        "    if w in glove_index_dict:\n",
        "        g = w\n",
        "    elif w.lower() in glove_index_dict:\n",
        "        g = w.lower()\n",
        "    elif w.startswith('#') and w[1:] in glove_index_dict:\n",
        "        g = w[1:]\n",
        "    elif w.startswith('#') and w[1:].lower() in glove_index_dict:\n",
        "        g = w[1:].lower()\n",
        "    else:\n",
        "        continue\n",
        "    word2glove[w] = g"
      ],
      "execution_count": 0,
      "outputs": []
    },
    {
      "cell_type": "code",
      "metadata": {
        "id": "kBxcsdi4lBmQ",
        "colab_type": "code",
        "outputId": "9a6fa042-c194-4a1f-8132-b3470d28d173",
        "colab": {
          "base_uri": "https://localhost:8080/",
          "height": 35
        }
      },
      "source": [
        "normed_embedding = embedding/np.array([np.sqrt(np.dot(gweight,gweight)) for gweight in embedding])[:,None]\n",
        "\n",
        "nb_unknown_words = 100\n",
        "\n",
        "glove_match = []\n",
        "for w,idx in word2idx.iteritems():\n",
        "    if idx >= vocab_size-nb_unknown_words and w.isalpha() and w in word2glove:\n",
        "        gidx = glove_index_dict[word2glove[w]]\n",
        "        gweight = glove_embedding_weights[gidx,:].copy()\n",
        "        # find row in embedding that has the highest cos score with gweight\n",
        "        gweight /= np.sqrt(np.dot(gweight,gweight))\n",
        "        score = np.dot(normed_embedding[:vocab_size-nb_unknown_words], gweight)\n",
        "        while True:\n",
        "            embedding_idx = score.argmax()\n",
        "            s = score[embedding_idx]\n",
        "            if s < glove_thr:\n",
        "                break\n",
        "            if idx2word[embedding_idx] in word2glove :\n",
        "                glove_match.append((w, embedding_idx, s)) \n",
        "                break\n",
        "            score[embedding_idx] = -1\n",
        "glove_match.sort(key = lambda x: -x[2])\n",
        "print '# of glove substitutes found', len(glove_match)"
      ],
      "execution_count": 0,
      "outputs": [
        {
          "output_type": "stream",
          "text": [
            "# of glove substitutes found 48048\n"
          ],
          "name": "stdout"
        }
      ]
    },
    {
      "cell_type": "code",
      "metadata": {
        "id": "Sm2-AISvlFJM",
        "colab_type": "code",
        "outputId": "ec97870b-87e0-42e0-86cd-1d8d03aa65dd",
        "colab": {
          "base_uri": "https://localhost:8080/",
          "height": 202
        }
      },
      "source": [
        "for orig, sub, score in glove_match[-10:]:\n",
        "    print score, orig,'=>', idx2word[sub]"
      ],
      "execution_count": 0,
      "outputs": [
        {
          "output_type": "stream",
          "text": [
            "0.5000697194501305 Swara => Hexa\n",
            "0.5000578493182842 Lynnwood => Whitemarsh\n",
            "0.5000490738752257 bails => wipes\n",
            "0.5000480235662031 Motherfucker => fucking\n",
            "0.5000469909711531 chiming => bells\n",
            "0.5000343628037485 potshot => Dianabol\n",
            "0.500030129352899 grout => stain\n",
            "0.500019190694808 codefendant => 55-year-old\n",
            "0.5000046357647958 Ridgeway => Stoney\n",
            "0.5000018196995617 perpetuities => D-Link\n"
          ],
          "name": "stdout"
        }
      ]
    },
    {
      "cell_type": "code",
      "metadata": {
        "id": "mHd3I89wloCL",
        "colab_type": "code",
        "colab": {}
      },
      "source": [
        "glove_idx2idx = dict((word2idx[w],embedding_idx) for  w, embedding_idx, _ in glove_match)"
      ],
      "execution_count": 0,
      "outputs": []
    },
    {
      "cell_type": "code",
      "metadata": {
        "id": "P8U6uMI0lpeJ",
        "colab_type": "code",
        "outputId": "976630a4-7834-438e-acfc-96b7499bfc96",
        "colab": {
          "base_uri": "https://localhost:8080/",
          "height": 35
        }
      },
      "source": [
        "Y = [[word2idx[token] for token in headline.split()] for headline in heads]\n",
        "len(Y)"
      ],
      "execution_count": 0,
      "outputs": [
        {
          "output_type": "execute_result",
          "data": {
            "text/plain": [
              "10000"
            ]
          },
          "metadata": {
            "tags": []
          },
          "execution_count": 34
        }
      ]
    },
    {
      "cell_type": "code",
      "metadata": {
        "id": "GHMjlA3Mlrx3",
        "colab_type": "code",
        "outputId": "b6e17cb0-55b7-4e4e-8fb2-580e711aa5eb",
        "colab": {
          "base_uri": "https://localhost:8080/",
          "height": 265
        }
      },
      "source": [
        "plt.hist(map(len,Y),bins=50);"
      ],
      "execution_count": 0,
      "outputs": [
        {
          "output_type": "display_data",
          "data": {
            "image/png": "[encoded data removed]",
            "text/plain": [
              "<Figure size 432x288 with 1 Axes>"
            ]
          },
          "metadata": {
            "tags": []
          }
        }
      ]
    },
    {
      "cell_type": "code",
      "metadata": {
        "id": "jGNLr838ltbb",
        "colab_type": "code",
        "outputId": "a40923b8-3543-4607-b718-5ddb05570965",
        "colab": {
          "base_uri": "https://localhost:8080/",
          "height": 35
        }
      },
      "source": [
        "X = [[word2idx[token] for token in d.split()] for d in desc]\n",
        "len(X)"
      ],
      "execution_count": 0,
      "outputs": [
        {
          "output_type": "execute_result",
          "data": {
            "text/plain": [
              "10000"
            ]
          },
          "metadata": {
            "tags": []
          },
          "execution_count": 36
        }
      ]
    },
    {
      "cell_type": "code",
      "metadata": {
        "id": "1zl3yw-YlwHG",
        "colab_type": "code",
        "outputId": "cb03a655-7ddb-4102-cd55-9a3f90c4a3d8",
        "colab": {
          "base_uri": "https://localhost:8080/",
          "height": 265
        }
      },
      "source": [
        "plt.hist(map(len,X),bins=50);"
      ],
      "execution_count": 0,
      "outputs": [
        {
          "output_type": "display_data",
          "data": {
            "image/png": "[encoded data removed]",
            "text/plain": [
              "<Figure size 432x288 with 1 Axes>"
            ]
          },
          "metadata": {
            "tags": []
          }
        }
      ]
    },
    {
      "cell_type": "code",
      "metadata": {
        "id": "Iota3iuolz0H",
        "colab_type": "code",
        "colab": {}
      },
      "source": [
        "import cPickle as pickle\n",
        "with open('/content/drive/My Drive/Summarizer_dataset/%s.pkl'%FN,'wb') as fp:\n",
        "    pickle.dump((embedding, idx2word, word2idx, glove_idx2idx),fp,-1)"
      ],
      "execution_count": 0,
      "outputs": []
    },
    {
      "cell_type": "code",
      "metadata": {
        "id": "n9mJfJv9l6vW",
        "colab_type": "code",
        "colab": {}
      },
      "source": [
        "import cPickle as pickle\n",
        "with open('/content/drive/My Drive/Summarizer_dataset/%s.data.pkl'%FN,'wb') as fp:\n",
        "    pickle.dump((X,Y),fp,-1)"
      ],
      "execution_count": 0,
      "outputs": []
    },
    {
      "cell_type": "code",
      "metadata": {
        "id": "IfgfNzPzl_3F",
        "colab_type": "code",
        "colab": {}
      },
      "source": [
        ""
      ],
      "execution_count": 0,
      "outputs": []
    }
  ]
}