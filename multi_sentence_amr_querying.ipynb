{
  "nbformat": 4,
  "nbformat_minor": 0,
  "metadata": {
    "colab": {
      "name": "multi_sentence_amr_querying.ipynb",
      "version": "0.3.2",
      "provenance": [],
      "collapsed_sections": []
    },
    "kernelspec": {
      "name": "python3",
      "display_name": "Python 3"
    }
  },
  "cells": [
    {
      "cell_type": "code",
      "metadata": {
        "id": "dkGd5SlU_qjU",
        "colab_type": "code",
        "outputId": "4ed944f9-362c-4b0e-e86c-86ec6b3d1b5d",
        "colab": {
          "base_uri": "https://localhost:8080/",
          "height": 122
        }
      },
      "source": [
        "!pip install Penman"
      ],
      "execution_count": 0,
      "outputs": [
        {
          "output_type": "stream",
          "text": [
            "Collecting Penman\n",
            "  Downloading https://files.pythonhosted.org/packages/95/c9/bcd6ecbc1e204d83c35b2986361e71ccbac9f4dd5ddbf4a806772aab433d/Penman-0.6.2-py2.py3-none-any.whl\n",
            "Requirement already satisfied: docopt>=0.6.0 in /usr/local/lib/python3.6/dist-packages (from Penman) (0.6.2)\n",
            "Installing collected packages: Penman\n",
            "Successfully installed Penman-0.6.2\n"
          ],
          "name": "stdout"
        }
      ]
    },
    {
      "cell_type": "code",
      "metadata": {
        "id": "C4yquNIa_WZh",
        "colab_type": "code",
        "outputId": "ab6dd2ff-3e19-49b1-8547-43e7d20ed62f",
        "colab": {
          "base_uri": "https://localhost:8080/",
          "height": 34
        }
      },
      "source": [
        "!python -V"
      ],
      "execution_count": 0,
      "outputs": [
        {
          "output_type": "stream",
          "text": [
            "Python 3.6.7\n"
          ],
          "name": "stdout"
        }
      ]
    },
    {
      "cell_type": "code",
      "metadata": {
        "id": "-fYjPEkm44bd",
        "colab_type": "code",
        "outputId": "078aef27-9603-450d-8655-e53f1b710de4",
        "colab": {
          "base_uri": "https://localhost:8080/",
          "height": 2944
        }
      },
      "source": [
        "!wget -O - https://debian.neo4j.org/neotechnology.gpg.key | sudo apt-key add -\n",
        "!echo 'deb https://debian.neo4j.org/repo stable/' | sudo tee -a /etc/apt/sources.list.d/neo4j.list\n",
        "!sudo apt-get update\n",
        "!apt-get install neo4j=1:3.5.1\n",
        "!neo4j-admin set-initial-password root\n",
        "!service neo4j start\n",
        "!pip install py2neo"
      ],
      "execution_count": 0,
      "outputs": [
        {
          "output_type": "stream",
          "text": [
            "--2019-02-27 14:52:58--  https://debian.neo4j.org/neotechnology.gpg.key\n",
            "Resolving debian.neo4j.org (debian.neo4j.org)... 52.23.5.89, 52.206.153.237\n",
            "Connecting to debian.neo4j.org (debian.neo4j.org)|52.23.5.89|:443... connected.\n",
            "HTTP request sent, awaiting response... 200 OK\n",
            "Length: 4791 (4.7K) [application/octet-stream]\n",
            "Saving to: ‘STDOUT’\n",
            "\n",
            "\r-                     0%[                    ]       0  --.-KB/s               \r-                   100%[===================>]   4.68K  --.-KB/s    in 0s      \n",
            "\n",
            "2019-02-27 14:52:58 (725 MB/s) - written to stdout [4791/4791]\n",
            "\n",
            "OK\n",
            "deb https://debian.neo4j.org/repo stable/\n",
            "Ign:1 https://developer.download.nvidia.com/compute/cuda/repos/ubuntu1804/x86_64  InRelease\n",
            "Get:2 https://cloud.r-project.org/bin/linux/ubuntu bionic-cran35/ InRelease [3,609 B]\n",
            "Ign:3 https://developer.download.nvidia.com/compute/machine-learning/repos/ubuntu1804/x86_64  InRelease\n",
            "Get:4 https://developer.download.nvidia.com/compute/cuda/repos/ubuntu1804/x86_64  Release [564 B]\n",
            "Get:5 https://developer.download.nvidia.com/compute/machine-learning/repos/ubuntu1804/x86_64  Release [564 B]\n",
            "Get:6 https://developer.download.nvidia.com/compute/cuda/repos/ubuntu1804/x86_64  Release.gpg [819 B]\n",
            "Get:7 https://developer.download.nvidia.com/compute/machine-learning/repos/ubuntu1804/x86_64  Release.gpg [801 B]\n",
            "Get:8 https://cloud.r-project.org/bin/linux/ubuntu bionic-cran35/ Packages [52.1 kB]\n",
            "Ign:9 https://debian.neo4j.org/repo stable/ InRelease\n",
            "Hit:10 http://ppa.launchpad.net/graphics-drivers/ppa/ubuntu bionic InRelease\n",
            "Get:11 https://debian.neo4j.org/repo stable/ Release [1,479 B]\n",
            "Hit:12 http://archive.ubuntu.com/ubuntu bionic InRelease\n",
            "Get:13 http://security.ubuntu.com/ubuntu bionic-security InRelease [88.7 kB]\n",
            "Get:14 https://developer.download.nvidia.com/compute/cuda/repos/ubuntu1804/x86_64  Packages [54.8 kB]\n",
            "Get:15 https://debian.neo4j.org/repo stable/ Release.gpg [819 B]\n",
            "Get:16 http://archive.ubuntu.com/ubuntu bionic-updates InRelease [88.7 kB]\n",
            "Get:17 https://developer.download.nvidia.com/compute/machine-learning/repos/ubuntu1804/x86_64  Packages [5,867 B]\n",
            "Get:18 http://ppa.launchpad.net/marutter/c2d4u3.5/ubuntu bionic InRelease [15.4 kB]\n",
            "Get:19 https://debian.neo4j.org/repo stable/ Packages [61.0 kB]\n",
            "Get:20 http://archive.ubuntu.com/ubuntu bionic-backports InRelease [74.6 kB]\n",
            "Get:21 http://security.ubuntu.com/ubuntu bionic-security/universe amd64 Packages [156 kB]\n",
            "Get:22 http://ppa.launchpad.net/marutter/c2d4u3.5/ubuntu bionic/main Sources [1,610 kB]\n",
            "Get:23 http://archive.ubuntu.com/ubuntu bionic-updates/main amd64 Packages [691 kB]\n",
            "Get:24 http://security.ubuntu.com/ubuntu bionic-security/main amd64 Packages [345 kB]\n",
            "Get:25 http://archive.ubuntu.com/ubuntu bionic-updates/universe amd64 Packages [943 kB]\n",
            "Get:26 http://ppa.launchpad.net/marutter/c2d4u3.5/ubuntu bionic/main amd64 Packages [773 kB]\n",
            "Fetched 4,968 kB in 6s (812 kB/s)\n",
            "Reading package lists... Done\n",
            "Reading package lists... Done\n",
            "Building dependency tree       \n",
            "Reading state information... Done\n",
            "The following additional packages will be installed:\n",
            "  cypher-shell daemon psmisc\n",
            "The following NEW packages will be installed:\n",
            "  cypher-shell daemon neo4j psmisc\n",
            "0 upgraded, 4 newly installed, 0 to remove and 30 not upgraded.\n",
            "Need to get 98.4 MB of archives.\n",
            "After this operation, 115 MB of additional disk space will be used.\n",
            "Get:1 http://archive.ubuntu.com/ubuntu bionic/universe amd64 daemon amd64 0.6.4-1build1 [99.5 kB]\n",
            "Get:2 https://debian.neo4j.org/repo stable/ cypher-shell 1.1.7 [2,754 kB]\n",
            "Get:3 http://archive.ubuntu.com/ubuntu bionic-updates/main amd64 psmisc amd64 23.1-1ubuntu0.1 [52.5 kB]\n",
            "Get:4 https://debian.neo4j.org/repo stable/ neo4j 1:3.5.1 [95.5 MB]\n",
            "Fetched 98.4 MB in 6s (16.3 MB/s)\n",
            "Preconfiguring packages ...\n",
            "Selecting previously unselected package daemon.\n",
            "(Reading database ... 131284 files and directories currently installed.)\n",
            "Preparing to unpack .../daemon_0.6.4-1build1_amd64.deb ...\n",
            "Unpacking daemon (0.6.4-1build1) ...\n",
            "Selecting previously unselected package psmisc.\n",
            "Preparing to unpack .../psmisc_23.1-1ubuntu0.1_amd64.deb ...\n",
            "Unpacking psmisc (23.1-1ubuntu0.1) ...\n",
            "Selecting previously unselected package cypher-shell.\n",
            "Preparing to unpack .../cypher-shell_1.1.7_all.deb ...\n",
            "Unpacking cypher-shell (1.1.7) ...\n",
            "Selecting previously unselected package neo4j.\n",
            "Preparing to unpack .../neo4j_1%3a3.5.1_all.deb ...\n",
            "Unpacking neo4j (1:3.5.1) ...\n",
            "Setting up cypher-shell (1.1.7) ...\n",
            "Setting up psmisc (23.1-1ubuntu0.1) ...\n",
            "Processing triggers for systemd (237-3ubuntu10.13) ...\n",
            "Processing triggers for man-db (2.8.3-2ubuntu0.1) ...\n",
            "Setting up daemon (0.6.4-1build1) ...\n",
            "Setting up neo4j (1:3.5.1) ...\n",
            "invoke-rc.d: could not determine current runlevel\n",
            "invoke-rc.d: policy-rc.d denied execution of start.\n",
            "Processing triggers for systemd (237-3ubuntu10.13) ...\n",
            "WARNING! You are using an unsupported Java runtime. \n",
            "* Please use Oracle(R) Java(TM) 8, OpenJDK(TM) or IBM J9 to run Neo4j.\n",
            "* Please see https://neo4j.com/docs/ for Neo4j installation instructions.\n",
            "Changed password for user 'neo4j'.\n",
            "WARNING! You are using an unsupported Java runtime. \n",
            "* Please use Oracle(R) Java(TM) 8, OpenJDK(TM) or IBM J9 to run Neo4j.\n",
            "* Please see https://neo4j.com/docs/ for Neo4j installation instructions.\n",
            "Active database: graph.db\n",
            "Directories in use:\n",
            "  home:         /var/lib/neo4j\n",
            "  config:       /etc/neo4j\n",
            "  logs:         /var/log/neo4j\n",
            "  plugins:      /var/lib/neo4j/plugins\n",
            "  import:       /var/lib/neo4j/import\n",
            "  data:         /var/lib/neo4j/data\n",
            "  certificates: /var/lib/neo4j/certificates\n",
            "  run:          /var/run/neo4j\n",
            "Starting Neo4j.\n",
            "Started neo4j (pid 1577). It is available at http://localhost:7474/\n",
            "There may be a short delay until the server is ready.\n",
            "See /var/log/neo4j/neo4j.log for current status.\n",
            "Collecting py2neo\n",
            "\u001b[?25l  Downloading https://files.pythonhosted.org/packages/09/a7/e953ceef9a0e3c007139938b12f4827a248a20f02a0f28f98c6e108a4a93/py2neo-4.2.0.tar.gz (72kB)\n",
            "\u001b[K    100% |████████████████████████████████| 81kB 5.1MB/s \n",
            "\u001b[?25hRequirement already satisfied: click>=7.0 in /usr/local/lib/python3.6/dist-packages (from py2neo) (7.0)\n",
            "Collecting colorama (from py2neo)\n",
            "  Downloading https://files.pythonhosted.org/packages/4f/a6/728666f39bfff1719fc94c481890b2106837da9318031f71a8424b662e12/colorama-0.4.1-py2.py3-none-any.whl\n",
            "Collecting neobolt<1.8,>=1.7.3 (from py2neo)\n",
            "\u001b[?25l  Downloading https://files.pythonhosted.org/packages/ba/02/641c5241db092f75bce1334cb728d3fb48f4dddc5d21401fe94a5ed636ad/neobolt-1.7.4.tar.gz (182kB)\n",
            "\u001b[K    100% |████████████████████████████████| 184kB 18.3MB/s \n",
            "\u001b[?25hCollecting neotime<1.8,>=1.7.4 (from py2neo)\n",
            "  Downloading https://files.pythonhosted.org/packages/0b/7e/ca368a8d8e288be1352d4e2df35da1e01f8aaffbf526695df71630bcb8a6/neotime-1.7.4.tar.gz\n",
            "Collecting prompt_toolkit<2.1,>=2.0.7 (from py2neo)\n",
            "\u001b[?25l  Downloading https://files.pythonhosted.org/packages/f7/a7/9b1dd14ef45345f186ef69d175bdd2491c40ab1dfa4b2b3e4352df719ed7/prompt_toolkit-2.0.9-py3-none-any.whl (337kB)\n",
            "\u001b[K    100% |████████████████████████████████| 337kB 20.4MB/s \n",
            "\u001b[?25hCollecting pygments<2.4,>=2.3.0 (from py2neo)\n",
            "\u001b[?25l  Downloading https://files.pythonhosted.org/packages/13/e5/6d710c9cf96c31ac82657bcfb441df328b22df8564d58d0c4cd62612674c/Pygments-2.3.1-py2.py3-none-any.whl (849kB)\n",
            "\u001b[K    100% |████████████████████████████████| 849kB 7.9MB/s \n",
            "\u001b[?25hRequirement already satisfied: pytz in /usr/local/lib/python3.6/dist-packages (from py2neo) (2018.9)\n",
            "Collecting urllib3[secure]<1.25,>=1.23 (from py2neo)\n",
            "\u001b[?25l  Downloading https://files.pythonhosted.org/packages/62/00/ee1d7de624db8ba7090d1226aebefab96a2c71cd5cfa7629d6ad3f61b79e/urllib3-1.24.1-py2.py3-none-any.whl (118kB)\n",
            "\u001b[K    100% |████████████████████████████████| 122kB 25.8MB/s \n",
            "\u001b[?25hRequirement already satisfied: six in /usr/local/lib/python3.6/dist-packages (from neotime<1.8,>=1.7.4->py2neo) (1.11.0)\n",
            "Requirement already satisfied: wcwidth in /usr/local/lib/python3.6/dist-packages (from prompt_toolkit<2.1,>=2.0.7->py2neo) (0.1.7)\n",
            "Collecting pyOpenSSL>=0.14; extra == \"secure\" (from urllib3[secure]<1.25,>=1.23->py2neo)\n",
            "\u001b[?25l  Downloading https://files.pythonhosted.org/packages/01/c8/ceb170d81bd3941cbeb9940fc6cc2ef2ca4288d0ca8929ea4db5905d904d/pyOpenSSL-19.0.0-py2.py3-none-any.whl (53kB)\n",
            "\u001b[K    100% |████████████████████████████████| 61kB 18.4MB/s \n",
            "\u001b[?25hRequirement already satisfied: certifi; extra == \"secure\" in /usr/local/lib/python3.6/dist-packages (from urllib3[secure]<1.25,>=1.23->py2neo) (2018.11.29)\n",
            "Collecting cryptography>=1.3.4; extra == \"secure\" (from urllib3[secure]<1.25,>=1.23->py2neo)\n",
            "\u001b[?25l  Downloading https://files.pythonhosted.org/packages/a3/5f/d5b7d21006e3c1a3919a3cc14e2a5ce1cee1c7ff635f09b31d91bdaff377/cryptography-2.6.tar.gz (492kB)\n",
            "\u001b[K    100% |████████████████████████████████| 501kB 15.6MB/s \n",
            "\u001b[?25h  Installing build dependencies ... \u001b[?25ldone\n",
            "\u001b[?25h  Getting requirements to build wheel ... \u001b[?25ldone\n",
            "\u001b[?25h    Preparing wheel metadata ... \u001b[?25ldone\n",
            "\u001b[?25hRequirement already satisfied: idna>=2.0.0; extra == \"secure\" in /usr/local/lib/python3.6/dist-packages (from urllib3[secure]<1.25,>=1.23->py2neo) (2.6)\n",
            "Collecting ipaddress; extra == \"secure\" (from urllib3[secure]<1.25,>=1.23->py2neo)\n",
            "  Downloading https://files.pythonhosted.org/packages/fc/d0/7fc3a811e011d4b388be48a0e381db8d990042df54aa4ef4599a31d39853/ipaddress-1.0.22-py2.py3-none-any.whl\n",
            "Collecting asn1crypto>=0.21.0 (from cryptography>=1.3.4; extra == \"secure\"->urllib3[secure]<1.25,>=1.23->py2neo)\n",
            "\u001b[?25l  Downloading https://files.pythonhosted.org/packages/ea/cd/35485615f45f30a510576f1a56d1e0a7ad7bd8ab5ed7cdc600ef7cd06222/asn1crypto-0.24.0-py2.py3-none-any.whl (101kB)\n",
            "\u001b[K    100% |████████████████████████████████| 102kB 28.4MB/s \n",
            "\u001b[?25hRequirement already satisfied: cffi!=1.11.3,>=1.8 in /usr/local/lib/python3.6/dist-packages (from cryptography>=1.3.4; extra == \"secure\"->urllib3[secure]<1.25,>=1.23->py2neo) (1.12.1)\n",
            "Requirement already satisfied: pycparser in /usr/local/lib/python3.6/dist-packages (from cffi!=1.11.3,>=1.8->cryptography>=1.3.4; extra == \"secure\"->urllib3[secure]<1.25,>=1.23->py2neo) (2.19)\n",
            "Building wheels for collected packages: cryptography\n",
            "  Building wheel for cryptography (PEP 517) ... \u001b[?25ldone\n",
            "\u001b[?25h  Stored in directory: /root/.cache/pip/wheels/46/14/37/423e4908c25350284ad06ecb7fb11176647debce27984cb258\n",
            "Successfully built cryptography\n",
            "Building wheels for collected packages: py2neo, neobolt, neotime\n",
            "  Building wheel for py2neo (setup.py) ... \u001b[?25ldone\n",
            "\u001b[?25h  Stored in directory: /root/.cache/pip/wheels/b2/47/dd/757f7a2f0880b55fda4a7f1f0d6cb10df2de9cd4b14a0c6f47\n",
            "  Building wheel for neobolt (setup.py) ... \u001b[?25ldone\n",
            "\u001b[?25h  Stored in directory: /root/.cache/pip/wheels/29/15/1f/a2d381d5186d84b524791cc3eff45e0e01645a8412e20a1658\n",
            "  Building wheel for neotime (setup.py) ... \u001b[?25ldone\n",
            "\u001b[?25h  Stored in directory: /root/.cache/pip/wheels/d4/b4/c4/ab867cd0ac9e667f8cd269f9364fd1cb8ee75fe50f5ce97c79\n",
            "Successfully built py2neo neobolt neotime\n",
            "\u001b[31mrequests 2.18.4 has requirement urllib3<1.23,>=1.21.1, but you'll have urllib3 1.24.1 which is incompatible.\u001b[0m\n",
            "\u001b[31mipython 5.5.0 has requirement prompt-toolkit<2.0.0,>=1.0.4, but you'll have prompt-toolkit 2.0.9 which is incompatible.\u001b[0m\n",
            "Installing collected packages: colorama, neobolt, neotime, prompt-toolkit, pygments, asn1crypto, cryptography, pyOpenSSL, ipaddress, urllib3, py2neo\n",
            "  Found existing installation: prompt-toolkit 1.0.15\n",
            "    Uninstalling prompt-toolkit-1.0.15:\n",
            "      Successfully uninstalled prompt-toolkit-1.0.15\n",
            "  Found existing installation: Pygments 2.1.3\n",
            "    Uninstalling Pygments-2.1.3:\n",
            "      Successfully uninstalled Pygments-2.1.3\n",
            "  Found existing installation: urllib3 1.22\n",
            "    Uninstalling urllib3-1.22:\n",
            "      Successfully uninstalled urllib3-1.22\n",
            "Successfully installed asn1crypto-0.24.0 colorama-0.4.1 cryptography-2.6 ipaddress-1.0.22 neobolt-1.7.4 neotime-1.7.4 prompt-toolkit-2.0.9 py2neo-4.2.0 pyOpenSSL-19.0.0 pygments-2.3.1 urllib3-1.24.1\n"
          ],
          "name": "stdout"
        },
        {
          "output_type": "display_data",
          "data": {
            "application/vnd.colab-display-data+json": {
              "pip_warning": {
                "packages": [
                  "ipaddress",
                  "prompt_toolkit",
                  "pygments",
                  "urllib3"
                ]
              }
            }
          },
          "metadata": {
            "tags": []
          }
        }
      ]
    },
    {
      "cell_type": "code",
      "metadata": {
        "id": "L0Un1nHTUWY9",
        "colab_type": "code",
        "outputId": "9c1f166a-04ea-4187-a3f6-fbf52f2e86f6",
        "colab": {
          "base_uri": "https://localhost:8080/",
          "height": 122
        }
      },
      "source": [
        "from google.colab import drive\n",
        "drive.mount('/content/drive/')"
      ],
      "execution_count": 0,
      "outputs": [
        {
          "output_type": "stream",
          "text": [
            "Go to this URL in a browser: https://accounts.google.com/o/oauth2/auth?client_id=947318989803-6bn6qk8qdgf4n4g3pfee6491hc0brc4i.apps.googleusercontent.com&redirect_uri=urn%3Aietf%3Awg%3Aoauth%3A2.0%3Aoob&scope=email%20https%3A%2F%2Fwww.googleapis.com%2Fauth%2Fdocs.test%20https%3A%2F%2Fwww.googleapis.com%2Fauth%2Fdrive%20https%3A%2F%2Fwww.googleapis.com%2Fauth%2Fdrive.photos.readonly%20https%3A%2F%2Fwww.googleapis.com%2Fauth%2Fpeopleapi.readonly&response_type=code\n",
            "\n",
            "Enter your authorization code:\n",
            "··········\n",
            "Mounted at /content/drive/\n"
          ],
          "name": "stdout"
        }
      ]
    },
    {
      "cell_type": "code",
      "metadata": {
        "id": "AP9GSV2G-WGQ",
        "colab_type": "code",
        "colab": {}
      },
      "source": [
        "filename = '/content/drive/My Drive/Colab_Folders/AynRandTheFountainheadPl.txt'\n",
        "file = open(filename, 'rt')\n",
        "text = file.read()\n",
        "file.close()"
      ],
      "execution_count": 0,
      "outputs": []
    },
    {
      "cell_type": "code",
      "metadata": {
        "id": "wwgkDkjk-inm",
        "colab_type": "code",
        "outputId": "2d4794da-80e8-4da1-8304-5d41ea1fa20b",
        "colab": {
          "base_uri": "https://localhost:8080/",
          "height": 68
        }
      },
      "source": [
        "import nltk\n",
        "nltk.download('punkt')"
      ],
      "execution_count": 0,
      "outputs": [
        {
          "output_type": "stream",
          "text": [
            "[nltk_data] Downloading package punkt to /root/nltk_data...\n",
            "[nltk_data]   Unzipping tokenizers/punkt.zip.\n"
          ],
          "name": "stdout"
        },
        {
          "output_type": "execute_result",
          "data": {
            "text/plain": [
              "True"
            ]
          },
          "metadata": {
            "tags": []
          },
          "execution_count": 7
        }
      ]
    },
    {
      "cell_type": "code",
      "metadata": {
        "id": "DpaUg-sO-a_R",
        "colab_type": "code",
        "outputId": "8f7c51b3-ab6e-4f54-be69-63f5c2f69419",
        "colab": {
          "base_uri": "https://localhost:8080/",
          "height": 54
        }
      },
      "source": [
        "from nltk import sent_tokenize\n",
        "sentences = sent_tokenize(text)\n",
        "print(sentences[35:37])"
      ],
      "execution_count": 0,
      "outputs": [
        {
          "output_type": "stream",
          "text": [
            "['I had been opposed to the practice of dedicating books; I had held that a book is addressed to any reader who proves worthy of it.', 'But, that night, I told Frank that I would dedicate The Fountainhead to him because he had saved it.']\n"
          ],
          "name": "stdout"
        }
      ]
    },
    {
      "cell_type": "code",
      "metadata": {
        "id": "UDuDc_nW-2bT",
        "colab_type": "code",
        "outputId": "7cb09dc2-b8ff-4836-88b9-dac869936883",
        "colab": {
          "base_uri": "https://localhost:8080/",
          "height": 54
        }
      },
      "source": [
        "list_str = sentences[30:82]\n",
        "print(list_str)"
      ],
      "execution_count": 0,
      "outputs": [
        {
          "output_type": "stream",
          "text": [
            "[\"I gave that line to Dominique at Roark's trial.\", 'I did not feel discouragement very often, and when I did, it did not last longer than overnight.', 'But there was one evening, during the writing of The Fountainhead, when I felt so profound an indignation at the state of “things as they are” that it seemed as if I would never regain the energy to move one step farther toward “things as they ought to be.” Frank talked to me for hours, that night.', 'He convinced me of why one cannot give up the world to those one despises.', 'By the time he finished, my discouragement was gone; it never came back in so intense a form.', 'I had been opposed to the practice of dedicating books; I had held that a book is addressed to any reader who proves worthy of it.', 'But, that night, I told Frank that I would dedicate The Fountainhead to him because he had saved it.', \"And one of my happiest moments, about two years later, was given to me by the look on his face when he came home, one day, and saw the page-proofs of the book, headed by the page that stated in cold, clear, objective print: To Frank O'Connor.\", 'I have been asked whether I have changed in these past twenty-five years.', 'No, I am the same--only more so.', 'Have my ideas changed?', 'No, my fundamental convictions, my view of life and of man, have never changed, from as far back as I can remember, but my knowledge of their applications has grown, in scope and in precision.', 'What is my present evaluation of The Fountainhead?', 'I am as proud of it as I was on the day when I finished writing it.', 'Was The Fountainhead written for the purpose of presenting my philosophy?', 'Here, I shall quote from The Goal of My Writing, an address I gave at Lewis and Clark College, on October 1, 1963: \"This is the motive and purpose of my writing; the projection of an ideal man.', 'The portrayal of a moral ideal, as my ultimate literary goal, as an end in itself--to which any didactic, intellectual or philosophical values contained in a novel are only the means.', '\"Let me stress this: my purpose is not the philosophical enlightenment of my readers...My purpose, first cause and prime mover is the portrayal of Howard Roark [or the heroes of Atlas Shrugged} as an end in himself...\\n\\n\\n\\n\"I write--and read--for the sake of the story...My basic test for any story is: \\'Would I want to meet these characters and observe these events in real life?', 'Is this story an experience worth living through for its own sake?', \"Is the pleasure of contemplating these characters an end in itself?'...\", '\"Since my purpose is the presentation of an ideal man, I had to define and present the conditions which make him possible and which his existence requires.', \"Since man's character is the product of his premises, I had to define and present the kinds of premises and values that create the character of an ideal man and motivate his actions; which means that I had to define and present a rational code of ethics.\", 'Since man acts among and deals with other men, I had to present the kind of social system that makes it possible for ideal men to exist and to function--a free, productive, rational system which demands and rewards the best in every man, and which is, obviously, laissez-faire capitalism.', '“But neither politics nor ethics nor philosophy is an end in itself, neither in life nor in literature.', 'Only Man is an end in himself.”\\n\\n\\n\\nAre there any substantial changes I would want to make in The Fountainhead?', 'No--and, therefore, I have left its text untouched.', 'I want it to stand as it was written.', 'But there is one minor error and one possibly misleading sentence which I should like to clarify, so I shall mention them here.', \"The error is semantic: the use of the word “egotist” in Roark's courtroom speech, while actually the word should have been “egoist.” The error was caused by my reliance on a dictionary which gave such misleading definitions of these two words that “egotist” seemed closer to the meaning I intended (Webster's Daily Use Dictionary, 1933).\", '(Modern philosophers, however, are guiltier than lexicographers in regard to these two terms.)', \"The possibly misleading sentence is in Roark's speech: “From this simplest necessity to the highest religious abstraction, from the wheel to the skyscraper, everything we are and everything we have comes from a single attribute of man--the function of his reasoning mind.”\\n\\n\\n\\nThis could be misinterpreted to mean an endorsement of religion or religious ideas.\", \"I remember hesitating over that sentence, when I wrote it, and deciding that Roark's and my atheism, as well as the overall spirit of the book, were so clearly established that no one would misunderstand it, particularly since I said that religious abstractions are the product of man's mind, not of supernatural revelation.\", 'But an issue of this sort should not be left to implications.', \"What I was referring to was not religion as such, but a special category of abstractions, the most exalted one, which, for centuries, had been the near-monopoly of religion: ethics--not the particular content of religious ethics, but the abstraction “ethics,” the realm of values, man's code of good and evil, with the emotional connotations of height, uplift, nobility, reverence, grandeur, which pertain to the realm of man's values, but which religion has arrogated to itself.\", 'The same meaning and considerations were intended and are applicable to another passage of the book, a brief dialogue between Roark and Hopton Stoddard, which may be misunderstood if taken out of context:\\n\\n\\n\\n\"\\'You\\'re a profoundly religious man, Mr. Roark--in your own way.', \"I can see that in your buildings.'\", \"“'That's true,' said Roark.”\\n\\n\\n\\nIn the context of that scene, however, the meaning is clear: it is Roark's profound dedication to values, to the highest and best, to the ideal, that Stoddard is referring to (see his explanation of the nature of the proposed temple).\", 'The erection of the Stoddard Temple and the subsequent trial state the issue explicitly.', 'This leads me to a wider issue which is involved in every line of The Fountainhead and which has to be understood if one wants to understand the causes of its lasting appeal.', \"Religion's monopoly in the field of ethics has made it extremely difficult to communicate the emotional meaning and connotations of a rational view of life.\", \"Just as religion has preempted the field of ethics, turning morality against man, so it has usurped the highest moral concepts of our language, placing them outside this earth and beyond man's reach.\", '“Exaltation” is usually taken to mean an emotional state evoked by contemplating the supernatural.', '“Worship” means the emotional experience of loyalty and dedication to something higher than man.', \"“Reverence” means the emotion of a sacred respect, to be experienced on one's knees.\", '“Sacred” means superior to and not-to-be-touched-by any concerns of man or of this earth.', 'Etc.', 'But such concepts do name actual emotions, even though no supernatural dimension exists; and these emotions are experienced as uplifting or ennobling, without the self-abasement required by religious definitions.', 'What, then, is their source or referent in reality?', \"It is the entire emotional realm of man's dedication to a moral ideal.\", 'Yet apart from the man-degrading aspects introduced by religion, that emotional realm is left unidentified, without concepts, words or recognition.', \"It is this highest level of man's emotions that has to be redeemed from the murk of mysticism and redirected at its proper object: man.\", 'It is in this sense, with this meaning and intention, that I would identify the sense of life dramatized in The Fountainhead as man-worship.']\n"
          ],
          "name": "stdout"
        }
      ]
    },
    {
      "cell_type": "code",
      "metadata": {
        "id": "wrUJIWksmb1V",
        "colab_type": "code",
        "colab": {}
      },
      "source": [
        "#FOR TESTING\n",
        "list_str = ['RAJU WENT TO RIVER BANK.', 'HE STARTED PLAYING FOOTBALL.']"
      ],
      "execution_count": 0,
      "outputs": []
    },
    {
      "cell_type": "code",
      "metadata": {
        "id": "_SXsZ_zEcZql",
        "colab_type": "code",
        "colab": {}
      },
      "source": [
        "import urllib\n",
        "import ast\n",
        "from bs4 import BeautifulSoup\n",
        "import penman\n",
        "import re\n",
        "from py2neo import Graph, Node, Relationship\n",
        "\n",
        "def save_to_neo4j(list_triples):\n",
        "  g = Graph('http://localhost:7474/db/data', user='neo4j', password='root')\n",
        "  for values in list_triples:\n",
        "    tx = g.begin()\n",
        "    for ele in values:\n",
        "      print(\"\\n\")\n",
        "      print(ele)\n",
        "      if ele[1] == 'instance':\n",
        "        d = g.run(\"MATCH (a:Concept) WHERE a.value={b} RETURN a\", b=ele[2])\n",
        "        list_d = list(d)\n",
        "        if len(list_d) > 0:\n",
        "          start_node = list_d[0]['a'] #\n",
        "          start_node['label'] = ele[0] # return the updated value\n",
        "          neo4j_transaction = g.begin()\n",
        "          neo4j_transaction.push(start_node)\n",
        "          neo4j_transaction.commit()\n",
        "        else:\n",
        "          neo4j_transaction = g.begin()\n",
        "          start_node = Node(\"Concept\", value=ele[2], label=ele[0], location=None, time=None, activity=None)\n",
        "          neo4j_transaction.create(start_node)\n",
        "          neo4j_transaction.commit()\n",
        "      else:\n",
        "        d = g.run(\"MATCH (a:Concept) WHERE a.label={b} RETURN a\", b=ele[0])\n",
        "        list_d = list(d)\n",
        "        if len(list_d) > 0:\n",
        "          start_node = list_d[0]['a'] #\n",
        "        else:\n",
        "          print(\"No node\")\n",
        "\n",
        "        #print(start_node['value'])\n",
        "        d = g.run(\"MATCH (a:Concept) WHERE a.label={b} RETURN a\", b=ele[2])\n",
        "        list_d = list(d)\n",
        "        if len(list_d) > 0:\n",
        "          end_node = list_d[0]['a'] #\n",
        "        else:\n",
        "          print(\"No node\")\n",
        "\n",
        "        #print(end_node['value'])\n",
        "        relation = ele[1]\n",
        "        #print(relation)\n",
        "\n",
        "        relations = g.match((start_node, end_node), r_type=relation)\n",
        "        existing_relation = list(relations)\n",
        "\n",
        "        if len(existing_relation) == 0:\n",
        "          #print(\"No Relationship exists\")\n",
        "          neo4j_transaction = g.begin()\n",
        "          ab = Relationship(start_node, relation, end_node)\n",
        "          neo4j_transaction.create(ab)\n",
        "          neo4j_transaction.commit()\n",
        "          #print(g.exists(ab))\n",
        "          \n",
        "    for ele in values:\n",
        "      #print(\"\\n\")\n",
        "      #print(ele)\n",
        "      if ele[1] == 'instance':\n",
        "        d = g.run(\"MATCH (a:Concept) WHERE a.value={b} RETURN a\", b=ele[2])\n",
        "        list_d = list(d)\n",
        "        print(list_d)\n",
        "        if len(list_d) > 0:\n",
        "          node = list_d[0]['a'] #\n",
        "          node['label'] = None # return the updated value\n",
        "          neo4j_transaction = g.begin()\n",
        "          neo4j_transaction.push(node)\n",
        "          neo4j_transaction.commit()\n",
        "\n",
        "def sentence_to_amr_triplets(str_list):\n",
        "  list_triples = []\n",
        "  for each in str_list:\n",
        "    #print(each)\n",
        "    data = result = re.sub('/[^,a-zA-Z0-9_-]+', '', each)\n",
        "    print(data)\n",
        "    url_code = urllib.parse.quote_plus(data)\n",
        "    #print(url_code)\n",
        "    try:\n",
        "      sock = urllib.request.urlopen(\"http://bollin.inf.ed.ac.uk:9010/amreager?lang=en&sent=\"+url_code) \n",
        "      htmlSource = sock.read().decode('gbk')                            \n",
        "      sock.close()                                        \n",
        "      #print (htmlSource)\n",
        "      x = ast.literal_eval(htmlSource)\n",
        "      #print(x)\n",
        "\n",
        "      list_text =x['graph'].split('<br/>')\n",
        "      del list_text[0:2]\n",
        "      list_text\n",
        "\n",
        "      str1 = ''.join(list_text)\n",
        "\n",
        "\n",
        "      s = str1\n",
        "      soup = BeautifulSoup(s)\n",
        "      texts = soup.find_all(text=True)\n",
        "      for t in texts:\n",
        "         newtext = t.replace(\"&nbsp\",'')\n",
        "         t.replace_with(newtext)\n",
        "      #print(newtext)\n",
        "\n",
        "      pen_man = penman.decode(newtext)\n",
        "      triples_list = pen_man.triples()\n",
        "\n",
        "      list_triples.append(triples_list)\n",
        "    \n",
        "    except urllib.error.URLError as e:\n",
        "      print(e)\n",
        "    \n",
        "  return list_triples"
      ],
      "execution_count": 0,
      "outputs": []
    },
    {
      "cell_type": "code",
      "metadata": {
        "id": "po67Mw2QdCqO",
        "colab_type": "code",
        "outputId": "fc47e98a-c7fb-4dcc-ab6e-4b9468d11da2",
        "colab": {
          "base_uri": "https://localhost:8080/",
          "height": 51
        }
      },
      "source": [
        "list_penmen = sentence_to_amr_triplets(list_str)\n",
        "#print(list_penmen)"
      ],
      "execution_count": 0,
      "outputs": [
        {
          "output_type": "stream",
          "text": [
            "RAJU WENT TO RIVER BANK.\n",
            "HE STARTED PLAYING FOOTBALL.\n"
          ],
          "name": "stdout"
        }
      ]
    },
    {
      "cell_type": "code",
      "metadata": {
        "id": "APjVW93LKrQL",
        "colab_type": "code",
        "outputId": "c8f678d3-9f9d-49bf-aac0-b8760da73294",
        "colab": {
          "base_uri": "https://localhost:8080/",
          "height": 1003
        }
      },
      "source": [
        "save_to_neo4j(list_penmen)"
      ],
      "execution_count": 0,
      "outputs": [
        {
          "output_type": "stream",
          "text": [
            "\n",
            "\n",
            "Triple(source='v3', relation='instance', target='go-01')\n",
            "\n",
            "\n",
            "Triple(source='v1', relation='instance', target='person')\n",
            "\n",
            "\n",
            "Triple(source='v2', relation='instance', target='name')\n",
            "\n",
            "\n",
            "Triple(source='v5', relation='instance', target='bank')\n",
            "\n",
            "\n",
            "Triple(source='v4', relation='instance', target='river')\n",
            "\n",
            "\n",
            "Triple(source='v3', relation='ARG1', target='v1')\n",
            "\n",
            "\n",
            "Triple(source='v1', relation='name', target='v2')\n",
            "\n",
            "\n",
            "Triple(source='v2', relation='op1', target='\"RAJU\"')\n",
            "No node\n",
            "\n",
            "\n",
            "Triple(source='v1', relation='wiki', target='\"RAJU\"')\n",
            "No node\n",
            "\n",
            "\n",
            "Triple(source='v3', relation='ARG1', target='v5')\n",
            "\n",
            "\n",
            "Triple(source='v5', relation='mod', target='v4')\n",
            "[<Record a=(_0:Concept {label: 'v3', value: 'go-01'})>]\n",
            "[<Record a=(_20:Concept {label: 'v1', value: 'person'})>]\n",
            "[<Record a=(_1:Concept {label: 'v2', value: 'name'})>]\n",
            "[<Record a=(_40:Concept {label: 'v5', value: 'bank'})>]\n",
            "[<Record a=(_21:Concept {label: 'v4', value: 'river'})>]\n",
            "\n",
            "\n",
            "Triple(source='v1', relation='instance', target='start-01')\n",
            "\n",
            "\n",
            "Triple(source='v2', relation='instance', target='play-01')\n",
            "\n",
            "\n",
            "Triple(source='v3', relation='instance', target='football')\n",
            "\n",
            "\n",
            "Triple(source='v1', relation='ARG1', target='v2')\n",
            "\n",
            "\n",
            "Triple(source='v2', relation='ARG1', target='v3')\n",
            "[<Record a=(_22:Concept {label: 'v1', value: 'start-01'})>]\n",
            "[<Record a=(_41:Concept {label: 'v2', value: 'play-01'})>]\n",
            "[<Record a=(_2:Concept {label: 'v3', value: 'football'})>]\n"
          ],
          "name": "stdout"
        }
      ]
    },
    {
      "cell_type": "code",
      "metadata": {
        "id": "6IyJ7CbeGJrM",
        "colab_type": "code",
        "outputId": "3649ac8f-6c1f-4011-d750-2fe11121189a",
        "colab": {
          "base_uri": "https://localhost:8080/",
          "height": 289
        }
      },
      "source": [
        "list_penmen"
      ],
      "execution_count": 0,
      "outputs": [
        {
          "output_type": "execute_result",
          "data": {
            "text/plain": [
              "[[Triple(source='v3', relation='instance', target='go-01'),\n",
              "  Triple(source='v1', relation='instance', target='person'),\n",
              "  Triple(source='v2', relation='instance', target='name'),\n",
              "  Triple(source='v5', relation='instance', target='bank'),\n",
              "  Triple(source='v4', relation='instance', target='river'),\n",
              "  Triple(source='v3', relation='ARG1', target='v1'),\n",
              "  Triple(source='v1', relation='name', target='v2'),\n",
              "  Triple(source='v2', relation='op1', target='\"RAJU\"'),\n",
              "  Triple(source='v1', relation='wiki', target='\"RAJU\"'),\n",
              "  Triple(source='v3', relation='ARG1', target='v5'),\n",
              "  Triple(source='v5', relation='mod', target='v4')],\n",
              " [Triple(source='v1', relation='instance', target='start-01'),\n",
              "  Triple(source='v2', relation='instance', target='play-01'),\n",
              "  Triple(source='v3', relation='instance', target='football'),\n",
              "  Triple(source='v1', relation='ARG1', target='v2'),\n",
              "  Triple(source='v2', relation='ARG1', target='v3')]]"
            ]
          },
          "metadata": {
            "tags": []
          },
          "execution_count": 16
        }
      ]
    },
    {
      "cell_type": "code",
      "metadata": {
        "id": "zTfW4AnimnzP",
        "colab_type": "code",
        "colab": {}
      },
      "source": [
        "from py2neo import NodeMatcher"
      ],
      "execution_count": 0,
      "outputs": []
    },
    {
      "cell_type": "code",
      "metadata": {
        "id": "juL0BQiumrQq",
        "colab_type": "code",
        "colab": {}
      },
      "source": [
        "g = Graph('http://localhost:7474/db/data', user='neo4j', password='root')\n",
        "matcher = NodeMatcher(g)"
      ],
      "execution_count": 0,
      "outputs": []
    },
    {
      "cell_type": "code",
      "metadata": {
        "id": "R_5oLqSRm0ig",
        "colab_type": "code",
        "outputId": "cdcb9043-df07-41d4-9622-526b8d767ce2",
        "colab": {
          "base_uri": "https://localhost:8080/",
          "height": 153
        }
      },
      "source": [
        "list(matcher.match(\"Concept\"))\n",
        "#matcher.match(\"Concept\").first()\n",
        "#list(matcher.match(\"Concept\", value__exact=\"man\"))\n",
        "#list(matcher.match(\"Concept\").where(\"_.value =~ 'p.*'\").order_by(\"_.value\").limit(5))"
      ],
      "execution_count": 0,
      "outputs": [
        {
          "output_type": "execute_result",
          "data": {
            "text/plain": [
              "[(_0:Concept {value: 'go-01'}),\n",
              " (_1:Concept {value: 'name'}),\n",
              " (_2:Concept {value: 'football'}),\n",
              " (_20:Concept {value: 'person'}),\n",
              " (_21:Concept {value: 'river'}),\n",
              " (_22:Concept {value: 'start-01'}),\n",
              " (_40:Concept {value: 'bank'}),\n",
              " (_41:Concept {value: 'play-01'})]"
            ]
          },
          "metadata": {
            "tags": []
          },
          "execution_count": 19
        }
      ]
    },
    {
      "cell_type": "code",
      "metadata": {
        "id": "aoHKw7Xdm7Cf",
        "colab_type": "code",
        "colab": {}
      },
      "source": [
        "from py2neo import RelationshipMatcher"
      ],
      "execution_count": 0,
      "outputs": []
    },
    {
      "cell_type": "code",
      "metadata": {
        "id": "2BzByqIKm_Gr",
        "colab_type": "code",
        "colab": {}
      },
      "source": [
        "rel_match = RelationshipMatcher(g)"
      ],
      "execution_count": 0,
      "outputs": []
    },
    {
      "cell_type": "code",
      "metadata": {
        "id": "TURP8qOCnEDR",
        "colab_type": "code",
        "outputId": "5db60c2b-810c-41ca-870c-be8c1e769d18",
        "colab": {
          "base_uri": "https://localhost:8080/",
          "height": 153
        }
      },
      "source": [
        "list(rel_match.match(nodes=None, r_type=None))"
      ],
      "execution_count": 0,
      "outputs": [
        {
          "output_type": "execute_result",
          "data": {
            "text/plain": [
              "[(_0)-[:ARG1 {}]->(_40),\n",
              " (_0)-[:ARG1 {}]->(_20),\n",
              " (_1)-[:op1 {}]->(_1),\n",
              " (_20)-[:wiki {}]->(_1),\n",
              " (_20)-[:name {}]->(_1),\n",
              " (_22)-[:ARG1 {}]->(_41),\n",
              " (_40)-[:mod {}]->(_21),\n",
              " (_41)-[:ARG1 {}]->(_2)]"
            ]
          },
          "metadata": {
            "tags": []
          },
          "execution_count": 22
        }
      ]
    }
  ]
}