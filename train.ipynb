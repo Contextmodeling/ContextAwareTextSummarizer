{
  "nbformat": 4,
  "nbformat_minor": 0,
  "metadata": {
    "colab": {
      "name": "train.ipynb",
      "version": "0.3.2",
      "provenance": []
    },
    "kernelspec": {
      "display_name": "Python 2",
      "language": "python",
      "name": "python2"
    }
  },
  "cells": [
    {
      "cell_type": "code",
      "metadata": {
        "id": "mp314AAfv_Kh",
        "colab_type": "code",
        "colab": {}
      },
      "source": [
        "FN = 'train'"
      ],
      "execution_count": 0,
      "outputs": []
    },
    {
      "cell_type": "markdown",
      "metadata": {
        "id": "61UJ1k_dv_Kt",
        "colab_type": "text"
      },
      "source": [
        "you should use GPU but if it is busy then you always can fall back to your CPU"
      ]
    },
    {
      "cell_type": "code",
      "metadata": {
        "id": "NotoJF6oG86s",
        "colab_type": "code",
        "outputId": "cf64d56d-a415-4015-e9cc-c2bac42caa4e",
        "colab": {
          "base_uri": "https://localhost:8080/",
          "height": 54
        }
      },
      "source": [
        "import os\n",
        "os.environ[\"KERAS_BACKEND\"] = \"theano\"\n",
        "import keras; import keras.backend\n",
        "if keras.backend.backend() != 'theano':\n",
        "    raise BaseException(\"This script uses other backend\")\n",
        "else:\n",
        "    keras.backend.set_image_dim_ordering('th')\n",
        "    print(\"Backend ok\")"
      ],
      "execution_count": 0,
      "outputs": [
        {
          "output_type": "stream",
          "text": [
            "Using Theano backend.\n"
          ],
          "name": "stderr"
        },
        {
          "output_type": "stream",
          "text": [
            "Backend ok\n"
          ],
          "name": "stdout"
        }
      ]
    },
    {
      "cell_type": "code",
      "metadata": {
        "id": "Qt3ugGEHG_bL",
        "colab_type": "code",
        "colab": {}
      },
      "source": [
        "os.environ['THEANO_FLAGS'] = 'device=cuda0,floatX=float32'"
      ],
      "execution_count": 0,
      "outputs": []
    },
    {
      "cell_type": "code",
      "metadata": {
        "id": "3ZQxj4Y3v_Kx",
        "colab_type": "code",
        "colab": {}
      },
      "source": [
        "import os\n",
        "# os.environ['THEANO_FLAGS'] = 'device=cpu,floatX=float32'"
      ],
      "execution_count": 0,
      "outputs": []
    },
    {
      "cell_type": "code",
      "metadata": {
        "id": "A0SDZtW4v_K2",
        "colab_type": "code",
        "outputId": "d3cca871-a47c-4fdd-d1ea-7b76665b7407",
        "colab": {
          "base_uri": "https://localhost:8080/",
          "height": 36
        }
      },
      "source": [
        "import keras\n",
        "keras.__version__"
      ],
      "execution_count": 0,
      "outputs": [
        {
          "output_type": "execute_result",
          "data": {
            "text/plain": [
              "'2.2.4'"
            ]
          },
          "metadata": {
            "tags": []
          },
          "execution_count": 5
        }
      ]
    },
    {
      "cell_type": "markdown",
      "metadata": {
        "id": "54709cKHv_LB",
        "colab_type": "text"
      },
      "source": [
        "Use indexing of tokens from [vocabulary-embedding](./vocabulary-embedding.ipynb) this does not clip the indexes of the words to `vocab_size`.\n",
        "\n",
        "Use the index of outside words to replace them with several `oov` words (`oov` , `oov0`, `oov1`, ...) that appear in the same description and headline. This will allow headline generator to replace the oov with the same word in the description"
      ]
    },
    {
      "cell_type": "code",
      "metadata": {
        "id": "VnxaXCOTv_LD",
        "colab_type": "code",
        "colab": {}
      },
      "source": [
        "FN0 = 'vocabulary-embedding'"
      ],
      "execution_count": 0,
      "outputs": []
    },
    {
      "cell_type": "markdown",
      "metadata": {
        "id": "UOHGCCqBv_LI",
        "colab_type": "text"
      },
      "source": [
        "implement the \"simple\" model from http://arxiv.org/pdf/1512.01712v1.pdf"
      ]
    },
    {
      "cell_type": "markdown",
      "metadata": {
        "id": "uFbffhBEv_LJ",
        "colab_type": "text"
      },
      "source": [
        "you can start training from a pre-existing model. This allows you to run this notebooks many times, each time using different parameters and passing the end result of one run to be the input of the next.\n",
        "\n",
        "I've started with `maxlend=0` (see below) in which the description was ignored. I then moved to start with a high `LR` and the manually lowering it. I also started with `nflips=0` in which the original headlines is used as-is and slowely moved to `12` in which half the input headline was fliped with the predictions made by the model (the paper used fixed 10%)"
      ]
    },
    {
      "cell_type": "code",
      "metadata": {
        "id": "YMZBFDURv_LL",
        "colab_type": "code",
        "colab": {}
      },
      "source": [
        "FN1 = 'train'"
      ],
      "execution_count": 0,
      "outputs": []
    },
    {
      "cell_type": "markdown",
      "metadata": {
        "id": "HFo9SFdSv_LT",
        "colab_type": "text"
      },
      "source": [
        "input data (`X`) is made from `maxlend` description words followed by `eos`\n",
        "followed by headline words followed by `eos`\n",
        "if description is shorter than `maxlend` it will be left padded with `empty`\n",
        "if entire data is longer than `maxlen` it will be clipped and if it is shorter it will be right padded with empty.\n",
        "\n",
        "labels (`Y`) are the headline words followed by `eos` and clipped or padded to `maxlenh`\n",
        "\n",
        "In other words the input is made from a `maxlend` half in which the description is padded from the left\n",
        "and a `maxlenh` half in which `eos` is followed by a headline followed by another `eos` if there is enough space.\n",
        "\n",
        "The labels match only the second half and \n",
        "the first label matches the `eos` at the start of the second half (following the description in the first half)"
      ]
    },
    {
      "cell_type": "code",
      "metadata": {
        "id": "Hz2tYVO8v_LW",
        "colab_type": "code",
        "colab": {}
      },
      "source": [
        "maxlend=25 # 0 - if we dont want to use description at all\n",
        "maxlenh=25\n",
        "maxlen = maxlend + maxlenh\n",
        "rnn_size = 512 # must be same as 160330-word-gen\n",
        "rnn_layers = 3  # match FN1\n",
        "batch_norm=False"
      ],
      "execution_count": 0,
      "outputs": []
    },
    {
      "cell_type": "markdown",
      "metadata": {
        "id": "59q5mWJlv_Lc",
        "colab_type": "text"
      },
      "source": [
        "the out of the first `activation_rnn_size` nodes from the top LSTM layer will be used for activation and the rest will be used to select predicted word"
      ]
    },
    {
      "cell_type": "code",
      "metadata": {
        "id": "1BKKuQmKv_Lf",
        "colab_type": "code",
        "colab": {}
      },
      "source": [
        "activation_rnn_size = 40 if maxlend else 0"
      ],
      "execution_count": 0,
      "outputs": []
    },
    {
      "cell_type": "code",
      "metadata": {
        "id": "wyPZeGG1v_Lm",
        "colab_type": "code",
        "colab": {}
      },
      "source": [
        "# training parameters\n",
        "seed=42\n",
        "p_W, p_U, p_dense, p_emb, weight_decay = 0, 0, 0, 0, 0\n",
        "optimizer = 'adam'\n",
        "LR = 1e-4\n",
        "batch_size=64\n",
        "nflips=10"
      ],
      "execution_count": 0,
      "outputs": []
    },
    {
      "cell_type": "code",
      "metadata": {
        "id": "FUWRGdd5v_Lp",
        "colab_type": "code",
        "colab": {}
      },
      "source": [
        "nb_train_samples = 30000\n",
        "nb_val_samples = 3000"
      ],
      "execution_count": 0,
      "outputs": []
    },
    {
      "cell_type": "markdown",
      "metadata": {
        "id": "jZZscxiQv_Lt",
        "colab_type": "text"
      },
      "source": [
        "# read word embedding"
      ]
    },
    {
      "cell_type": "code",
      "metadata": {
        "id": "watBiMtEv_Lu",
        "colab_type": "code",
        "colab": {}
      },
      "source": [
        "import cPickle as pickle\n",
        "\n",
        "with open('/content/drive/My Drive/New_Dataset/%s.pkl'%FN0, 'rb') as fp:\n",
        "    embedding, idx2word, word2idx, glove_idx2idx = pickle.load(fp)\n",
        "vocab_size, embedding_size = embedding.shape"
      ],
      "execution_count": 0,
      "outputs": []
    },
    {
      "cell_type": "code",
      "metadata": {
        "id": "1lrGq2Rqv_Lz",
        "colab_type": "code",
        "colab": {}
      },
      "source": [
        "with open('/content/drive/My Drive/New_Dataset/%s.data.pkl'%FN0, 'rb') as fp:\n",
        "    X, Y = pickle.load(fp)"
      ],
      "execution_count": 0,
      "outputs": []
    },
    {
      "cell_type": "code",
      "metadata": {
        "id": "SqnQ2IWXv_L5",
        "colab_type": "code",
        "colab": {}
      },
      "source": [
        "nb_unknown_words = 10"
      ],
      "execution_count": 0,
      "outputs": []
    },
    {
      "cell_type": "code",
      "metadata": {
        "id": "BUZ6e5Eev_L-",
        "colab_type": "code",
        "outputId": "042bb508-cc86-4004-b174-52fbedfd2006",
        "colab": {
          "base_uri": "https://localhost:8080/",
          "height": 129
        }
      },
      "source": [
        "print 'number of examples',len(X),len(Y)\n",
        "print 'dimension of embedding space for words',embedding_size\n",
        "print 'vocabulary size', vocab_size, 'the last %d words can be used as place holders for unknown/oov words'%nb_unknown_words\n",
        "print 'total number of different words',len(idx2word), len(word2idx)\n",
        "print 'number of words outside vocabulary which we can substitue using glove similarity', len(glove_idx2idx)\n",
        "print 'number of words that will be regarded as unknonw(unk)/out-of-vocabulary(oov)',len(idx2word)-vocab_size-len(glove_idx2idx)"
      ],
      "execution_count": 0,
      "outputs": [
        {
          "output_type": "stream",
          "text": [
            "number of examples 10000 10000\n",
            "dimension of embedding space for words 100\n",
            "vocabulary size 40000 the last 10 words can be used as place holders for unknown/oov words\n",
            "total number of different words 289382 289382\n",
            "number of words outside vocabulary which we can substitue using glove similarity 48048\n",
            "number of words that will be regarded as unknonw(unk)/out-of-vocabulary(oov) 201334\n"
          ],
          "name": "stdout"
        }
      ]
    },
    {
      "cell_type": "code",
      "metadata": {
        "id": "nUIeUXIIv_MC",
        "colab_type": "code",
        "colab": {}
      },
      "source": [
        "for i in range(nb_unknown_words):\n",
        "    idx2word[vocab_size-1-i] = '<%d>'%i"
      ],
      "execution_count": 0,
      "outputs": []
    },
    {
      "cell_type": "markdown",
      "metadata": {
        "id": "OHlKLu63v_MI",
        "colab_type": "text"
      },
      "source": [
        "when printing mark words outside vocabulary with `^` at their end"
      ]
    },
    {
      "cell_type": "code",
      "metadata": {
        "id": "_e_-RBd0v_MJ",
        "colab_type": "code",
        "colab": {}
      },
      "source": [
        "oov0 = vocab_size-nb_unknown_words"
      ],
      "execution_count": 0,
      "outputs": []
    },
    {
      "cell_type": "code",
      "metadata": {
        "id": "5lIoT2kLv_MO",
        "colab_type": "code",
        "colab": {}
      },
      "source": [
        "for i in range(oov0, len(idx2word)):\n",
        "    idx2word[i] = idx2word[i]+'^'"
      ],
      "execution_count": 0,
      "outputs": []
    },
    {
      "cell_type": "code",
      "metadata": {
        "id": "BmkzZEUIv_MS",
        "colab_type": "code",
        "outputId": "1ba84c63-0b2f-4348-fe6a-a5745b637bb4",
        "colab": {
          "base_uri": "https://localhost:8080/",
          "height": 36
        }
      },
      "source": [
        "from sklearn.model_selection import train_test_split\n",
        "X_train, X_test, Y_train, Y_test = train_test_split(X, Y, test_size=nb_val_samples, random_state=seed)\n",
        "len(X_train), len(Y_train), len(X_test), len(Y_test)"
      ],
      "execution_count": 0,
      "outputs": [
        {
          "output_type": "execute_result",
          "data": {
            "text/plain": [
              "(7000, 7000, 3000, 3000)"
            ]
          },
          "metadata": {
            "tags": []
          },
          "execution_count": 19
        }
      ]
    },
    {
      "cell_type": "code",
      "metadata": {
        "id": "7ZQRozZbv_MY",
        "colab_type": "code",
        "colab": {}
      },
      "source": [
        "del X\n",
        "del Y"
      ],
      "execution_count": 0,
      "outputs": []
    },
    {
      "cell_type": "code",
      "metadata": {
        "id": "7hctEqNTv_Me",
        "colab_type": "code",
        "colab": {}
      },
      "source": [
        "empty = 0\n",
        "eos = 1\n",
        "idx2word[empty] = '_'\n",
        "idx2word[eos] = '~'"
      ],
      "execution_count": 0,
      "outputs": []
    },
    {
      "cell_type": "code",
      "metadata": {
        "id": "Vm2Ypo87v_Mj",
        "colab_type": "code",
        "colab": {}
      },
      "source": [
        "import numpy as np\n",
        "from keras.preprocessing import sequence\n",
        "from keras.utils import np_utils\n",
        "import random, sys"
      ],
      "execution_count": 0,
      "outputs": []
    },
    {
      "cell_type": "code",
      "metadata": {
        "id": "VIWxvzVlv_Ml",
        "colab_type": "code",
        "colab": {}
      },
      "source": [
        "def prt(label, x):\n",
        "    print label+':',\n",
        "    for w in x:\n",
        "        print idx2word[w],\n",
        "    print"
      ],
      "execution_count": 0,
      "outputs": []
    },
    {
      "cell_type": "code",
      "metadata": {
        "id": "kq7uPDFxv_Mq",
        "colab_type": "code",
        "outputId": "5c80cb35-bdf4-4032-ff17-06c1569e5ae4",
        "colab": {
          "base_uri": "https://localhost:8080/",
          "height": 74
        }
      },
      "source": [
        "i = 334\n",
        "prt('H',Y_train[i])\n",
        "prt('D',X_train[i])"
      ],
      "execution_count": 0,
      "outputs": [
        {
          "output_type": "stream",
          "text": [
            "H: Update on Carl Frampton-Scott^ Quigg...^\n",
            "D: Boxing News was founded in 1909^ by original editor John Murray as, simply, Boxing.^ Murray had been a regular contributor to Health & Strength magazine and convinced its owner, Bill Berry (later^ Lord Camrose)^ to launch a weekly magazine dedicated solely to boxing.^ It is believed Murray had been inspired by Jack Johnson beating Tommy Burns to become the first black World heavyweight champion. In his first editorial,^ Murray stated, \"Boxing^ will stand for good clean sport. Its success of failure is in the hands of those who believe in sport of this character. Our energies will be devoted to giving the best paper that time, thought and money can devise.\"^ When circulation began to decline in the depression days of the late 20s,^ the name of the magazine was changed to Boxing,^ Racing and Football.^ In October 1931,^ the paper was sold to a syndicate of London sportsmen,^ who installed Sydney Rushton,^ a long-time London fight reporter,^ as the new editor. The layout changed, the page size was increased and Rushton^ proved less popular than Murray.^ The paper was again put up for sale and, while waiting for a buyer,^ the old features were reinstated and there was no official Editor.^ Another set of sportsmen^ bought the paper and Godfrey^ Williams was named editor. He attempted to run Boxing as a newspaper, cutting popular features and reducing news stories down to the shortest possible length. The circulation quickly dropped to its lowest ever. Billy Masters,^ a city printer and huge boxing fan, saved the paper, appointing^ W.H.^ Millier^ as the new editor. He completely reinvigorated^ the magazine, helped in no small measure by its first colour cover. In 1935,^ Millier^ departed and the owner replaced him with Sydney Ackland,^ who had previously worked as John Murray's assistant editor and had been taught by him. World War II brought many changes as first Sydney, then replacement Stanley Nelson, contributed to the war effort. Murray made a popular comeback as editor but ill health forced him to step down in 1941.^ Gilbert Odd took over until the building housing the paper was destroyed by the enemy. Odd was then called up for national service and both Masters and Murray served further terms. Now with the new name of Boxing News, the paper was bought by Australian publicist^ Vivian^ Brodzky^ and former promoter Sydney Hulls.^ Northern sports writer Bert Callis^ was the new editor. Odd took over for a second term upon Callis’^ retirement. Odd implemented the tradition of reporting the results and fighters'^ weights for every single fight in the country. When Odd quit to write books, he was succeeded by Jack Wilson and then Tim Riley.^ When Brodzky^ died, Boxing News was sold twice in quick succession,^ and Graham Houston became editor in 1971, immediately broadening the range of coverage, especially in North America. Houston left in 1977 to work on morning newspapers in Canada. This prompted the appointment of perhaps BN's^ greatest Editor of recent years, Harry Mullan.^ Circulation^ increased exponentially during the Mullan^ years, which doubled as a time of great change in the boxing world. Most notable new developments were the proliferation of ‘world’^ titles and the increase in the number of major British promoters.^ Mullan^ was fiercely principled^ and tremendously^ well respected in the boxing fraternity.^ When Mullan^ left in October 1996, he was given this glowing tribute from then BN Publisher^ Peter Kravitz:^ \"His writing stands comparison with the Lieblings,^ Hausers^ and Mailers^ of this century of boxing.\"^ Assistant Editor Claude Abrams succeeded Mullan^ in November 1996. Boxing News was redesigned and switched to a full-colour^ format and become more extensive in content. In March 1999 the paper went to A3 size before reverting^ to A4,^ and increasing in size to 48 pages (from 24)^ in September 2005. The magazine remained the main trade paper in Britain. Abrams left BN – after 22 years – in December 2009, just three months after the publication celebrated its centenary,^ and was succeeded as editor by Tris^ Dixon.^ Tris^ left the magazine in December 2014, with Matt Christie taking over as editor.\n"
          ],
          "name": "stdout"
        }
      ]
    },
    {
      "cell_type": "code",
      "metadata": {
        "id": "ESrwz-rxv_Mx",
        "colab_type": "code",
        "outputId": "8644f198-a123-4816-9dea-02ac2c26303e",
        "colab": {
          "base_uri": "https://localhost:8080/",
          "height": 74
        }
      },
      "source": [
        "i = 334\n",
        "prt('H',Y_test[i])\n",
        "prt('D',X_test[i])"
      ],
      "execution_count": 0,
      "outputs": [
        {
          "output_type": "stream",
          "text": [
            "H: Sheriff:^ Texas man killed by deputies appeared to hold knife\n",
            "D: DALLAS — A second video that captured Texas deputies fatally shooting a man whose hands were raised appears to show that he was holding a knife, a sheriff said Wednesday, declining to release the video because the investigation is still going on. Bexar County Sheriff Susan Pamerleau said at a news conference that the video has been forwarded to the Texas Department of Public Safety’s^ crime lab to see if the footage can be blown up and slowed down to establish the sequence of Friday’s events. Although it’s unclear from the video what 41-year-old Gilbert Flores may have been holding while facing deputies with his hands up outside of a home near San Antonio, investigators believe it was a knife, she said. “There’s no doubt that what was shown in that video is of grave concern to all of us, but we also want to get this right,”^ Pamerleau said of the investigation, which also involves the FBI.^ She declined to say whether investigators recovered a knife from the scene after the shooting. A separate video taken by a motorist and released publicly shows Flores raise his arms in apparent surrender and stand motionless^ just before the two deputies opened fire, killing him. A utility pole obscured one of his arms in that video, but Pamerleau said the second video, which was taken from a different angle, showed that both of Flores’^ arms were raised when he was shot. “We’re not drawing any conclusions at this point,”^ she said. “That would be inappropriate to do so.”^ The deputies,^ Greg Vasquez^ and Robert Sanchez, have been placed on administrative leave. San Antonio attorney Thomas J. Henry, who is representing the Flores family, previously told The Associated Press that the initial video appears to show that deadly force was unnecessary. “From a lay perspective, seeing the video, it does appear the immediate danger is gone because he had both hands in the air,”^ Henry said. “Now there are other videos and other pieces of evidence that we want to gather.”^ He said the family is considering filing a lawsuit to compel the authorities to turn over more evidence. Juan Contreras,^ president of the Deputy Sheriff’s Association of Bexar County, which is the deputies’^ union, said there are many aspects of the case that haven’t been disclosed by the authorities. “I believe that when the investigation is complete, the members that I represent will be cleared of any wrongdoing,”^ he said in a statement, later adding,^ “I have total confidence in the process and patiently await the outcome of the investigation.”^ Jon Shane,^ a former New Jersey police captain and an associate professor at John Jay College of Criminal Justice in New York City, cautioned that videos of deadly police encounters “almost^ never tell the complete story.”^ He explained that it’s often not immediately apparent what a suspect may have said to officers, whether the suspect may have had more than one weapon or whether the suspect may have been near someone who could have been taken hostage.^ “People seem to have this unwavering sentiment that the video tells the whole story,”^ Shane said. “The reality is that a lot of the time a video raises even more questions.”^ Vasquez^ and Sanchez encountered Flores while responding to a domestic disturbance call. Authorities said they found a woman with a cut and an infant who may have been injured at the home, but they didn’t disclose further details, including the identities of the two or any explanation of how they were hurt. Henry confirmed Wednesday that it was Flores’^ wife and child, but he declined to say whether Flores harmed either of them, only adding that any injuries didn’t result in hospitalization.^ He said any complaints that led to the arrival of deputies “should not have precipitated^ him being shot in the yard.”^ Henry declined to say whether Flores was armed with a knife. “Whether^ he was armed or not armed,^ the issue is going to be whether that scenario was escalating or de-escalating,”^ Henry said. Flores had multiple convictions and had spent 10 years of his life incarcerated,^ according to the San Antonio Express-News.^ Authorities have said deputies used nonlethal^ force in an attempt to subdue^ Flores before the shooting occurred, including the unsuccessful use of a stun gun. Pamerleau said the findings of the investigation will be turned over to the Bexar County district attorney’s^ office for a determination on whether charges will be filed. “We’re working this as diligently and as expeditiously^ as we can,”^ she said.\n"
          ],
          "name": "stdout"
        }
      ]
    },
    {
      "cell_type": "markdown",
      "metadata": {
        "id": "_hp8Uw4bv_M0",
        "colab_type": "text"
      },
      "source": [
        "# Model"
      ]
    },
    {
      "cell_type": "code",
      "metadata": {
        "id": "cT2KgWGIv_M2",
        "colab_type": "code",
        "colab": {}
      },
      "source": [
        "from keras.models import Sequential\n",
        "from keras.layers.core import Dense, Activation, Dropout, RepeatVector\n",
        "from keras.layers.wrappers import TimeDistributed\n",
        "from keras.layers.recurrent import LSTM\n",
        "from keras.layers.embeddings import Embedding\n",
        "from keras.regularizers import l2"
      ],
      "execution_count": 0,
      "outputs": []
    },
    {
      "cell_type": "code",
      "metadata": {
        "id": "99J6WU2dv_M5",
        "colab_type": "code",
        "colab": {}
      },
      "source": [
        "# seed weight initialization\n",
        "random.seed(seed)\n",
        "np.random.seed(seed)"
      ],
      "execution_count": 0,
      "outputs": []
    },
    {
      "cell_type": "code",
      "metadata": {
        "id": "VIpcEq_Tv_M7",
        "colab_type": "code",
        "colab": {}
      },
      "source": [
        "regularizer = l2(weight_decay) if weight_decay else None"
      ],
      "execution_count": 0,
      "outputs": []
    },
    {
      "cell_type": "markdown",
      "metadata": {
        "id": "30g7Kr3Bv_M-",
        "colab_type": "text"
      },
      "source": [
        "start with a standard stacked LSTM"
      ]
    },
    {
      "cell_type": "code",
      "metadata": {
        "id": "kkPYBjziv_NA",
        "colab_type": "code",
        "outputId": "23b2f90a-ffe7-4b12-bbe9-e7e73b465ec1",
        "colab": {
          "base_uri": "https://localhost:8080/",
          "height": 224
        }
      },
      "source": [
        "model = Sequential()\n",
        "model.add(Embedding(vocab_size, embedding_size,\n",
        "                    input_length=maxlen,\n",
        "                    W_regularizer=regularizer, dropout=p_emb, weights=[embedding], mask_zero=True,\n",
        "                    name='embedding_1'))\n",
        "for i in range(rnn_layers):\n",
        "    lstm = LSTM(rnn_size, return_sequences=True, # batch_norm=batch_norm,\n",
        "                W_regularizer=regularizer, U_regularizer=regularizer,\n",
        "                b_regularizer=regularizer, dropout_W=p_W, dropout_U=p_U,\n",
        "                name='lstm_%d'%(i+1)\n",
        "                  )\n",
        "    model.add(lstm)\n",
        "    model.add(Dropout(p_dense,name='dropout_%d'%(i+1)))"
      ],
      "execution_count": 0,
      "outputs": [
        {
          "output_type": "stream",
          "text": [
            "/usr/local/lib/python2.7/dist-packages/ipykernel_launcher.py:5: UserWarning: The `dropout` argument is no longer support in `Embedding`. You can apply a `keras.layers.SpatialDropout1D` layer right after the `Embedding` layer to get the same behavior.\n",
            "  \"\"\"\n",
            "/usr/local/lib/python2.7/dist-packages/ipykernel_launcher.py:5: UserWarning: Update your `Embedding` call to the Keras 2 API: `Embedding(40000, 100, name=\"embedding_1\", weights=[array([[-..., embeddings_regularizer=None, mask_zero=True, input_length=50)`\n",
            "  \"\"\"\n",
            "/usr/local/lib/python2.7/dist-packages/ipykernel_launcher.py:10: UserWarning: Update your `LSTM` call to the Keras 2 API: `LSTM(512, recurrent_regularizer=None, recurrent_dropout=0, name=\"lstm_1\", bias_regularizer=None, dropout=0, kernel_regularizer=None, return_sequences=True)`\n",
            "  # Remove the CWD from sys.path while we load stuff.\n",
            "/usr/local/lib/python2.7/dist-packages/ipykernel_launcher.py:10: UserWarning: Update your `LSTM` call to the Keras 2 API: `LSTM(512, recurrent_regularizer=None, recurrent_dropout=0, name=\"lstm_2\", bias_regularizer=None, dropout=0, kernel_regularizer=None, return_sequences=True)`\n",
            "  # Remove the CWD from sys.path while we load stuff.\n",
            "/usr/local/lib/python2.7/dist-packages/ipykernel_launcher.py:10: UserWarning: Update your `LSTM` call to the Keras 2 API: `LSTM(512, recurrent_regularizer=None, recurrent_dropout=0, name=\"lstm_3\", bias_regularizer=None, dropout=0, kernel_regularizer=None, return_sequences=True)`\n",
            "  # Remove the CWD from sys.path while we load stuff.\n"
          ],
          "name": "stderr"
        }
      ]
    },
    {
      "cell_type": "markdown",
      "metadata": {
        "id": "eO3XSaIkv_NC",
        "colab_type": "text"
      },
      "source": [
        "A special layer that reduces the input just to its headline part (second half).\n",
        "For each word in this part it concatenate the output of the previous layer (RNN)\n",
        "with a weighted average of the outputs of the description part.\n",
        "In this only the last `rnn_size - activation_rnn_size` are used from each output.\n",
        "The first `activation_rnn_size` output is used to computer the weights for the averaging."
      ]
    },
    {
      "cell_type": "code",
      "metadata": {
        "id": "WqMrqijev_ND",
        "colab_type": "code",
        "outputId": "0f711c0f-2efb-4196-ea87-c516f1ca6ab8",
        "colab": {
          "base_uri": "https://localhost:8080/",
          "height": 268
        }
      },
      "source": [
        "from keras.layers.core import Lambda\n",
        "import keras.backend as K\n",
        "\n",
        "def simple_context(X, mask, n=activation_rnn_size, maxlend=maxlend, maxlenh=maxlenh):\n",
        "    desc, head = X[:,:maxlend,:], X[:,maxlend:,:]\n",
        "    head_activations, head_words = head[:,:,:n], head[:,:,n:]\n",
        "    desc_activations, desc_words = desc[:,:,:n], desc[:,:,n:]\n",
        "    \n",
        "    # RTFM http://deeplearning.net/software/theano/library/tensor/basic.html#theano.tensor.batched_tensordot\n",
        "    # activation for every head word and every desc word\n",
        "    activation_energies = K.batch_dot(head_activations, desc_activations, axes=(2,2))\n",
        "    # make sure we dont use description words that are masked out\n",
        "    activation_energies = activation_energies + -1e20*K.expand_dims(1.-K.cast(mask[:, :maxlend],'float32'),1)\n",
        "    \n",
        "    # for every head word compute weights for every desc word\n",
        "    activation_energies = K.reshape(activation_energies,(-1,maxlend))\n",
        "    activation_weights = K.softmax(activation_energies)\n",
        "    activation_weights = K.reshape(activation_weights,(-1,maxlenh,maxlend))\n",
        "\n",
        "    # for every head word compute weighted average of desc words\n",
        "    desc_avg_word = K.batch_dot(activation_weights, desc_words, axes=(2,1))\n",
        "    return K.concatenate((desc_avg_word, head_words))\n",
        "\n",
        "\n",
        "class SimpleContext(Lambda):\n",
        "    def __init__(self,**kwargs):\n",
        "        super(SimpleContext, self).__init__(simple_context,**kwargs)\n",
        "        self.supports_masking = True\n",
        "\n",
        "    def compute_mask(self, input, input_mask=None):\n",
        "        return input_mask[:, maxlend:]\n",
        "    \n",
        "    def compute_output_shape(self, input_shape):\n",
        "        nb_samples = input_shape[0]\n",
        "        n = 2*(rnn_size - activation_rnn_size)\n",
        "        return (nb_samples, maxlenh, n)"
      ],
      "execution_count": 0,
      "outputs": [
        {
          "output_type": "stream",
          "text": [
            "Using TensorFlow backend.\n"
          ],
          "name": "stderr"
        },
        {
          "output_type": "error",
          "ename": "NameError",
          "evalue": "ignored",
          "traceback": [
            "\u001b[0;31m\u001b[0m",
            "\u001b[0;31mNameError\u001b[0mTraceback (most recent call last)",
            "\u001b[0;32m<ipython-input-1-2b0ed6248316>\u001b[0m in \u001b[0;36m<module>\u001b[0;34m()\u001b[0m\n\u001b[1;32m      2\u001b[0m \u001b[0;32mimport\u001b[0m \u001b[0mkeras\u001b[0m\u001b[0;34m.\u001b[0m\u001b[0mbackend\u001b[0m \u001b[0;32mas\u001b[0m \u001b[0mK\u001b[0m\u001b[0;34m\u001b[0m\u001b[0m\n\u001b[1;32m      3\u001b[0m \u001b[0;34m\u001b[0m\u001b[0m\n\u001b[0;32m----> 4\u001b[0;31m \u001b[0;32mdef\u001b[0m \u001b[0msimple_context\u001b[0m\u001b[0;34m(\u001b[0m\u001b[0mX\u001b[0m\u001b[0;34m,\u001b[0m \u001b[0mmask\u001b[0m\u001b[0;34m,\u001b[0m \u001b[0mn\u001b[0m\u001b[0;34m=\u001b[0m\u001b[0mactivation_rnn_size\u001b[0m\u001b[0;34m,\u001b[0m \u001b[0mmaxlend\u001b[0m\u001b[0;34m=\u001b[0m\u001b[0mmaxlend\u001b[0m\u001b[0;34m,\u001b[0m \u001b[0mmaxlenh\u001b[0m\u001b[0;34m=\u001b[0m\u001b[0mmaxlenh\u001b[0m\u001b[0;34m)\u001b[0m\u001b[0;34m:\u001b[0m\u001b[0;34m\u001b[0m\u001b[0m\n\u001b[0m\u001b[1;32m      5\u001b[0m     \u001b[0mdesc\u001b[0m\u001b[0;34m,\u001b[0m \u001b[0mhead\u001b[0m \u001b[0;34m=\u001b[0m \u001b[0mX\u001b[0m\u001b[0;34m[\u001b[0m\u001b[0;34m:\u001b[0m\u001b[0;34m,\u001b[0m\u001b[0;34m:\u001b[0m\u001b[0mmaxlend\u001b[0m\u001b[0;34m,\u001b[0m\u001b[0;34m:\u001b[0m\u001b[0;34m]\u001b[0m\u001b[0;34m,\u001b[0m \u001b[0mX\u001b[0m\u001b[0;34m[\u001b[0m\u001b[0;34m:\u001b[0m\u001b[0;34m,\u001b[0m\u001b[0mmaxlend\u001b[0m\u001b[0;34m:\u001b[0m\u001b[0;34m,\u001b[0m\u001b[0;34m:\u001b[0m\u001b[0;34m]\u001b[0m\u001b[0;34m\u001b[0m\u001b[0m\n\u001b[1;32m      6\u001b[0m     \u001b[0mhead_activations\u001b[0m\u001b[0;34m,\u001b[0m \u001b[0mhead_words\u001b[0m \u001b[0;34m=\u001b[0m \u001b[0mhead\u001b[0m\u001b[0;34m[\u001b[0m\u001b[0;34m:\u001b[0m\u001b[0;34m,\u001b[0m\u001b[0;34m:\u001b[0m\u001b[0;34m,\u001b[0m\u001b[0;34m:\u001b[0m\u001b[0mn\u001b[0m\u001b[0;34m]\u001b[0m\u001b[0;34m,\u001b[0m \u001b[0mhead\u001b[0m\u001b[0;34m[\u001b[0m\u001b[0;34m:\u001b[0m\u001b[0;34m,\u001b[0m\u001b[0;34m:\u001b[0m\u001b[0;34m,\u001b[0m\u001b[0mn\u001b[0m\u001b[0;34m:\u001b[0m\u001b[0;34m]\u001b[0m\u001b[0;34m\u001b[0m\u001b[0m\n",
            "\u001b[0;31mNameError\u001b[0m: name 'activation_rnn_size' is not defined"
          ]
        }
      ]
    },
    {
      "cell_type": "code",
      "metadata": {
        "id": "7PX1dOI4v_NF",
        "colab_type": "code",
        "outputId": "309cab70-cba7-4e1c-b65e-b096f0ff0d9e",
        "colab": {
          "base_uri": "https://localhost:8080/",
          "height": 811
        }
      },
      "source": [
        "if activation_rnn_size:\n",
        "    model.add(SimpleContext(name='simplecontext_1'))\n",
        "model.add(TimeDistributed(Dense(vocab_size,\n",
        "                                W_regularizer=regularizer, b_regularizer=regularizer,\n",
        "                                name = 'timedistributed_1')))\n",
        "model.add(Activation('softmax', name='activation_1'))"
      ],
      "execution_count": 0,
      "outputs": [
        {
          "output_type": "stream",
          "text": [
            "/usr/local/lib/python2.7/dist-packages/ipykernel_launcher.py:5: UserWarning: Update your `Dense` call to the Keras 2 API: `Dense(40000, kernel_regularizer=None, name=\"timedistributed_1\", bias_regularizer=None)`\n",
            "  \"\"\"\n"
          ],
          "name": "stderr"
        },
        {
          "output_type": "error",
          "ename": "TypeError",
          "evalue": "ignored",
          "traceback": [
            "\u001b[0;31m\u001b[0m",
            "\u001b[0;31mTypeError\u001b[0mTraceback (most recent call last)",
            "\u001b[0;32m<ipython-input-31-6154a98d2ff9>\u001b[0m in \u001b[0;36m<module>\u001b[0;34m()\u001b[0m\n\u001b[1;32m      3\u001b[0m model.add(TimeDistributed(Dense(vocab_size,\n\u001b[1;32m      4\u001b[0m                                 \u001b[0mW_regularizer\u001b[0m\u001b[0;34m=\u001b[0m\u001b[0mregularizer\u001b[0m\u001b[0;34m,\u001b[0m \u001b[0mb_regularizer\u001b[0m\u001b[0;34m=\u001b[0m\u001b[0mregularizer\u001b[0m\u001b[0;34m,\u001b[0m\u001b[0;34m\u001b[0m\u001b[0m\n\u001b[0;32m----> 5\u001b[0;31m                                 name = 'timedistributed_1')))\n\u001b[0m\u001b[1;32m      6\u001b[0m \u001b[0mmodel\u001b[0m\u001b[0;34m.\u001b[0m\u001b[0madd\u001b[0m\u001b[0;34m(\u001b[0m\u001b[0mActivation\u001b[0m\u001b[0;34m(\u001b[0m\u001b[0;34m'softmax'\u001b[0m\u001b[0;34m,\u001b[0m \u001b[0mname\u001b[0m\u001b[0;34m=\u001b[0m\u001b[0;34m'activation_1'\u001b[0m\u001b[0;34m)\u001b[0m\u001b[0;34m)\u001b[0m\u001b[0;34m\u001b[0m\u001b[0m\n",
            "\u001b[0;32m/usr/local/lib/python2.7/dist-packages/keras/engine/sequential.pyc\u001b[0m in \u001b[0;36madd\u001b[0;34m(self, layer)\u001b[0m\n\u001b[1;32m    179\u001b[0m                 \u001b[0mself\u001b[0m\u001b[0;34m.\u001b[0m\u001b[0minputs\u001b[0m \u001b[0;34m=\u001b[0m \u001b[0mnetwork\u001b[0m\u001b[0;34m.\u001b[0m\u001b[0mget_source_inputs\u001b[0m\u001b[0;34m(\u001b[0m\u001b[0mself\u001b[0m\u001b[0;34m.\u001b[0m\u001b[0moutputs\u001b[0m\u001b[0;34m[\u001b[0m\u001b[0;36m0\u001b[0m\u001b[0;34m]\u001b[0m\u001b[0;34m)\u001b[0m\u001b[0;34m\u001b[0m\u001b[0m\n\u001b[1;32m    180\u001b[0m         \u001b[0;32melif\u001b[0m \u001b[0mself\u001b[0m\u001b[0;34m.\u001b[0m\u001b[0moutputs\u001b[0m\u001b[0;34m:\u001b[0m\u001b[0;34m\u001b[0m\u001b[0m\n\u001b[0;32m--> 181\u001b[0;31m             \u001b[0moutput_tensor\u001b[0m \u001b[0;34m=\u001b[0m \u001b[0mlayer\u001b[0m\u001b[0;34m(\u001b[0m\u001b[0mself\u001b[0m\u001b[0;34m.\u001b[0m\u001b[0moutputs\u001b[0m\u001b[0;34m[\u001b[0m\u001b[0;36m0\u001b[0m\u001b[0;34m]\u001b[0m\u001b[0;34m)\u001b[0m\u001b[0;34m\u001b[0m\u001b[0m\n\u001b[0m\u001b[1;32m    182\u001b[0m             \u001b[0;32mif\u001b[0m \u001b[0misinstance\u001b[0m\u001b[0;34m(\u001b[0m\u001b[0moutput_tensor\u001b[0m\u001b[0;34m,\u001b[0m \u001b[0mlist\u001b[0m\u001b[0;34m)\u001b[0m\u001b[0;34m:\u001b[0m\u001b[0;34m\u001b[0m\u001b[0m\n\u001b[1;32m    183\u001b[0m                 raise TypeError('All layers in a Sequential model '\n",
            "\u001b[0;32m/usr/local/lib/python2.7/dist-packages/keras/engine/base_layer.pyc\u001b[0m in \u001b[0;36m__call__\u001b[0;34m(self, inputs, **kwargs)\u001b[0m\n\u001b[1;32m    456\u001b[0m             \u001b[0;31m# collecting output(s), mask(s), and shape(s).\u001b[0m\u001b[0;34m\u001b[0m\u001b[0;34m\u001b[0m\u001b[0m\n\u001b[1;32m    457\u001b[0m             \u001b[0moutput\u001b[0m \u001b[0;34m=\u001b[0m \u001b[0mself\u001b[0m\u001b[0;34m.\u001b[0m\u001b[0mcall\u001b[0m\u001b[0;34m(\u001b[0m\u001b[0minputs\u001b[0m\u001b[0;34m,\u001b[0m \u001b[0;34m**\u001b[0m\u001b[0mkwargs\u001b[0m\u001b[0;34m)\u001b[0m\u001b[0;34m\u001b[0m\u001b[0m\n\u001b[0;32m--> 458\u001b[0;31m             \u001b[0moutput_mask\u001b[0m \u001b[0;34m=\u001b[0m \u001b[0mself\u001b[0m\u001b[0;34m.\u001b[0m\u001b[0mcompute_mask\u001b[0m\u001b[0;34m(\u001b[0m\u001b[0minputs\u001b[0m\u001b[0;34m,\u001b[0m \u001b[0mprevious_mask\u001b[0m\u001b[0;34m)\u001b[0m\u001b[0;34m\u001b[0m\u001b[0m\n\u001b[0m\u001b[1;32m    459\u001b[0m \u001b[0;34m\u001b[0m\u001b[0m\n\u001b[1;32m    460\u001b[0m             \u001b[0;31m# If the layer returns tensors from its inputs, unmodified,\u001b[0m\u001b[0;34m\u001b[0m\u001b[0;34m\u001b[0m\u001b[0m\n",
            "\u001b[0;32m/usr/local/lib/python2.7/dist-packages/keras/layers/wrappers.pyc\u001b[0m in \u001b[0;36mcompute_mask\u001b[0;34m(self, inputs, mask)\u001b[0m\n\u001b[1;32m    299\u001b[0m         \u001b[0minner_mask\u001b[0m \u001b[0;34m=\u001b[0m \u001b[0mmask\u001b[0m\u001b[0;34m\u001b[0m\u001b[0m\n\u001b[1;32m    300\u001b[0m         \u001b[0;32mif\u001b[0m \u001b[0minner_mask\u001b[0m \u001b[0;32mis\u001b[0m \u001b[0;32mnot\u001b[0m \u001b[0mNone\u001b[0m\u001b[0;34m:\u001b[0m\u001b[0;34m\u001b[0m\u001b[0m\n\u001b[0;32m--> 301\u001b[0;31m             \u001b[0minner_mask_shape\u001b[0m \u001b[0;34m=\u001b[0m \u001b[0mself\u001b[0m\u001b[0;34m.\u001b[0m\u001b[0m_get_shape_tuple\u001b[0m\u001b[0;34m(\u001b[0m\u001b[0;34m(\u001b[0m\u001b[0;34m-\u001b[0m\u001b[0;36m1\u001b[0m\u001b[0;34m,\u001b[0m\u001b[0;34m)\u001b[0m\u001b[0;34m,\u001b[0m \u001b[0mmask\u001b[0m\u001b[0;34m,\u001b[0m \u001b[0;36m2\u001b[0m\u001b[0;34m)\u001b[0m\u001b[0;34m\u001b[0m\u001b[0m\n\u001b[0m\u001b[1;32m    302\u001b[0m             \u001b[0minner_mask\u001b[0m \u001b[0;34m=\u001b[0m \u001b[0mK\u001b[0m\u001b[0;34m.\u001b[0m\u001b[0mreshape\u001b[0m\u001b[0;34m(\u001b[0m\u001b[0minner_mask\u001b[0m\u001b[0;34m,\u001b[0m \u001b[0minner_mask_shape\u001b[0m\u001b[0;34m)\u001b[0m\u001b[0;34m\u001b[0m\u001b[0m\n\u001b[1;32m    303\u001b[0m         \u001b[0minput_uid\u001b[0m \u001b[0;34m=\u001b[0m \u001b[0mobject_list_uid\u001b[0m\u001b[0;34m(\u001b[0m\u001b[0minputs\u001b[0m\u001b[0;34m)\u001b[0m\u001b[0;34m\u001b[0m\u001b[0m\n",
            "\u001b[0;32m/usr/local/lib/python2.7/dist-packages/keras/layers/wrappers.pyc\u001b[0m in \u001b[0;36m_get_shape_tuple\u001b[0;34m(self, init_tuple, tensor, start_idx, int_shape)\u001b[0m\n\u001b[1;32m    182\u001b[0m         \u001b[0;31m# replace all None in int_shape by K.shape\u001b[0m\u001b[0;34m\u001b[0m\u001b[0;34m\u001b[0m\u001b[0m\n\u001b[1;32m    183\u001b[0m         \u001b[0;32mif\u001b[0m \u001b[0mint_shape\u001b[0m \u001b[0;32mis\u001b[0m \u001b[0mNone\u001b[0m\u001b[0;34m:\u001b[0m\u001b[0;34m\u001b[0m\u001b[0m\n\u001b[0;32m--> 184\u001b[0;31m             \u001b[0mint_shape\u001b[0m \u001b[0;34m=\u001b[0m \u001b[0mK\u001b[0m\u001b[0;34m.\u001b[0m\u001b[0mint_shape\u001b[0m\u001b[0;34m(\u001b[0m\u001b[0mtensor\u001b[0m\u001b[0;34m)\u001b[0m\u001b[0;34m[\u001b[0m\u001b[0mstart_idx\u001b[0m\u001b[0;34m:\u001b[0m\u001b[0;34m]\u001b[0m\u001b[0;34m\u001b[0m\u001b[0m\n\u001b[0m\u001b[1;32m    185\u001b[0m         \u001b[0;32mif\u001b[0m \u001b[0;32mnot\u001b[0m \u001b[0many\u001b[0m\u001b[0;34m(\u001b[0m\u001b[0;32mnot\u001b[0m \u001b[0ms\u001b[0m \u001b[0;32mfor\u001b[0m \u001b[0ms\u001b[0m \u001b[0;32min\u001b[0m \u001b[0mint_shape\u001b[0m\u001b[0;34m)\u001b[0m\u001b[0;34m:\u001b[0m\u001b[0;34m\u001b[0m\u001b[0m\n\u001b[1;32m    186\u001b[0m             \u001b[0;32mreturn\u001b[0m \u001b[0minit_tuple\u001b[0m \u001b[0;34m+\u001b[0m \u001b[0mint_shape\u001b[0m\u001b[0;34m\u001b[0m\u001b[0m\n",
            "\u001b[0;31mTypeError\u001b[0m: 'NoneType' object has no attribute '__getitem__'"
          ]
        }
      ]
    },
    {
      "cell_type": "code",
      "metadata": {
        "id": "y3PELxVJv_NH",
        "colab_type": "code",
        "colab": {}
      },
      "source": [
        "from keras.optimizers import Adam, RMSprop # usually I prefer Adam but article used rmsprop\n",
        "# opt = Adam(lr=LR)  # keep calm and reduce learning rate\n",
        "model.compile(loss='categorical_crossentropy', optimizer=optimizer)"
      ],
      "execution_count": 0,
      "outputs": []
    },
    {
      "cell_type": "code",
      "metadata": {
        "id": "Ve-bR77mv_NI",
        "colab_type": "code",
        "colab": {}
      },
      "source": [
        "%%javascript\n",
        "// new Audio(\"http://www.soundjay.com/button/beep-09.wav\").play ()"
      ],
      "execution_count": 0,
      "outputs": []
    },
    {
      "cell_type": "code",
      "metadata": {
        "id": "o-dW-_SSv_NO",
        "colab_type": "code",
        "colab": {}
      },
      "source": [
        "K.set_value(model.optimizer.lr,np.float32(LR))"
      ],
      "execution_count": 0,
      "outputs": []
    },
    {
      "cell_type": "code",
      "metadata": {
        "id": "kuEsfp9Xv_NP",
        "colab_type": "code",
        "colab": {}
      },
      "source": [
        "def str_shape(x):\n",
        "    return 'x'.join(map(str,x.shape))\n",
        "    \n",
        "def inspect_model(model):\n",
        "    for i,l in enumerate(model.layers):\n",
        "        print i, 'cls=%s name=%s'%(type(l).__name__, l.name)\n",
        "        weights = l.get_weights()\n",
        "        for weight in weights:\n",
        "            print str_shape(weight),\n",
        "        print"
      ],
      "execution_count": 0,
      "outputs": []
    },
    {
      "cell_type": "code",
      "metadata": {
        "id": "Vi29iKC0v_NR",
        "colab_type": "code",
        "colab": {}
      },
      "source": [
        "inspect_model(model)"
      ],
      "execution_count": 0,
      "outputs": []
    },
    {
      "cell_type": "markdown",
      "metadata": {
        "id": "bzhHGck2v_NZ",
        "colab_type": "text"
      },
      "source": [
        "# Load"
      ]
    },
    {
      "cell_type": "code",
      "metadata": {
        "id": "LKMZN_tsv_Na",
        "colab_type": "code",
        "colab": {}
      },
      "source": [
        "if FN1 and os.path.exists('data/%s.hdf5'%FN1):\n",
        "    model.load_weights('data/%s.hdf5'%FN1)"
      ],
      "execution_count": 0,
      "outputs": []
    },
    {
      "cell_type": "markdown",
      "metadata": {
        "id": "WhCqxdofv_Nb",
        "colab_type": "text"
      },
      "source": [
        "# Test"
      ]
    },
    {
      "cell_type": "code",
      "metadata": {
        "id": "simlN_ORv_Nf",
        "colab_type": "code",
        "colab": {}
      },
      "source": [
        "def lpadd(x, maxlend=maxlend, eos=eos):\n",
        "    \"\"\"left (pre) pad a description to maxlend and then add eos.\n",
        "    The eos is the input to predicting the first word in the headline\n",
        "    \"\"\"\n",
        "    assert maxlend >= 0\n",
        "    if maxlend == 0:\n",
        "        return [eos]\n",
        "    n = len(x)\n",
        "    if n > maxlend:\n",
        "        x = x[-maxlend:]\n",
        "        n = maxlend\n",
        "    return [empty]*(maxlend-n) + x + [eos]"
      ],
      "execution_count": 0,
      "outputs": []
    },
    {
      "cell_type": "code",
      "metadata": {
        "id": "7XUlNwOZv_Ng",
        "colab_type": "code",
        "colab": {}
      },
      "source": [
        "samples = [lpadd([3]*26)]\n",
        "# pad from right (post) so the first maxlend will be description followed by headline\n",
        "data = sequence.pad_sequences(samples, maxlen=maxlen, value=empty, padding='post', truncating='post')"
      ],
      "execution_count": 0,
      "outputs": []
    },
    {
      "cell_type": "code",
      "metadata": {
        "id": "KbvnzXZhv_Nj",
        "colab_type": "code",
        "colab": {}
      },
      "source": [
        "np.all(data[:,maxlend] == eos)"
      ],
      "execution_count": 0,
      "outputs": []
    },
    {
      "cell_type": "code",
      "metadata": {
        "id": "J0pTXZcMv_Nn",
        "colab_type": "code",
        "colab": {}
      },
      "source": [
        "data.shape,map(len, samples)"
      ],
      "execution_count": 0,
      "outputs": []
    },
    {
      "cell_type": "code",
      "metadata": {
        "id": "jdwSpHMKv_Np",
        "colab_type": "code",
        "colab": {}
      },
      "source": [
        "probs = model.predict(data, verbose=0, batch_size=1)\n",
        "probs.shape"
      ],
      "execution_count": 0,
      "outputs": []
    },
    {
      "cell_type": "markdown",
      "metadata": {
        "id": "lc9UHLYFv_Ns",
        "colab_type": "text"
      },
      "source": [
        "# Sample generation"
      ]
    },
    {
      "cell_type": "markdown",
      "metadata": {
        "id": "xc1xCoBWv_N3",
        "colab_type": "text"
      },
      "source": [
        "this section is only used to generate examples. you can skip it if you just want to understand how the training works"
      ]
    },
    {
      "cell_type": "code",
      "metadata": {
        "id": "k3Waxecjv_N5",
        "colab_type": "code",
        "colab": {}
      },
      "source": [
        "# variation to https://github.com/ryankiros/skip-thoughts/blob/master/decoding/search.py\n",
        "def beamsearch(predict, start=[empty]*maxlend + [eos],\n",
        "               k=1, maxsample=maxlen, use_unk=True, empty=empty, eos=eos, temperature=1.0):\n",
        "    \"\"\"return k samples (beams) and their NLL scores, each sample is a sequence of labels,\n",
        "    all samples starts with an `empty` label and end with `eos` or truncated to length of `maxsample`.\n",
        "    You need to supply `predict` which returns the label probability of each sample.\n",
        "    `use_unk` allow usage of `oov` (out-of-vocabulary) label in samples\n",
        "    \"\"\"\n",
        "    def sample(energy, n, temperature=temperature):\n",
        "        \"\"\"sample at most n elements according to their energy\"\"\"\n",
        "        n = min(n,len(energy))\n",
        "        prb = np.exp(-np.array(energy) / temperature )\n",
        "        res = []\n",
        "        for i in xrange(n):\n",
        "            z = np.sum(prb)\n",
        "            r = np.argmax(np.random.multinomial(1, prb/z, 1))\n",
        "            res.append(r)\n",
        "            prb[r] = 0. # make sure we select each element only once\n",
        "        return res\n",
        "\n",
        "    dead_k = 0 # samples that reached eos\n",
        "    dead_samples = []\n",
        "    dead_scores = []\n",
        "    live_k = 1 # samples that did not yet reached eos\n",
        "    live_samples = [list(start)]\n",
        "    live_scores = [0]\n",
        "\n",
        "    while live_k:\n",
        "        # for every possible live sample calc prob for every possible label \n",
        "        probs = predict(live_samples, empty=empty)\n",
        "\n",
        "        # total score for every sample is sum of -log of word prb\n",
        "        cand_scores = np.array(live_scores)[:,None] - np.log(probs)\n",
        "        cand_scores[:,empty] = 1e20\n",
        "        if not use_unk:\n",
        "            for i in range(nb_unknown_words):\n",
        "                cand_scores[:,vocab_size - 1 - i] = 1e20\n",
        "        live_scores = list(cand_scores.flatten())\n",
        "        \n",
        "\n",
        "        # find the best (lowest) scores we have from all possible dead samples and\n",
        "        # all live samples and all possible new words added\n",
        "        scores = dead_scores + live_scores\n",
        "        ranks = sample(scores, k)\n",
        "        n = len(dead_scores)\n",
        "        ranks_dead = [r for r in ranks if r < n]\n",
        "        ranks_live = [r - n for r in ranks if r >= n]\n",
        "        \n",
        "        dead_scores = [dead_scores[r] for r in ranks_dead]\n",
        "        dead_samples = [dead_samples[r] for r in ranks_dead]\n",
        "        \n",
        "        live_scores = [live_scores[r] for r in ranks_live]\n",
        "\n",
        "        # append the new words to their appropriate live sample\n",
        "        voc_size = probs.shape[1]\n",
        "        live_samples = [live_samples[r//voc_size]+[r%voc_size] for r in ranks_live]\n",
        "\n",
        "        # live samples that should be dead are...\n",
        "        # even if len(live_samples) == maxsample we dont want it dead because we want one\n",
        "        # last prediction out of it to reach a headline of maxlenh\n",
        "        zombie = [s[-1] == eos or len(s) > maxsample for s in live_samples]\n",
        "        \n",
        "        # add zombies to the dead\n",
        "        dead_samples += [s for s,z in zip(live_samples,zombie) if z]\n",
        "        dead_scores += [s for s,z in zip(live_scores,zombie) if z]\n",
        "        dead_k = len(dead_samples)\n",
        "        # remove zombies from the living \n",
        "        live_samples = [s for s,z in zip(live_samples,zombie) if not z]\n",
        "        live_scores = [s for s,z in zip(live_scores,zombie) if not z]\n",
        "        live_k = len(live_samples)\n",
        "\n",
        "    return dead_samples + live_samples, dead_scores + live_scores"
      ],
      "execution_count": 0,
      "outputs": []
    },
    {
      "cell_type": "code",
      "metadata": {
        "id": "5DSYxdshv_N7",
        "colab_type": "code",
        "colab": {}
      },
      "source": [
        "!pip install python-Levenshtein"
      ],
      "execution_count": 0,
      "outputs": []
    },
    {
      "cell_type": "code",
      "metadata": {
        "id": "8AGRro67v_N-",
        "colab_type": "code",
        "colab": {}
      },
      "source": [
        "def keras_rnn_predict(samples, empty=empty, model=model, maxlen=maxlen):\n",
        "    \"\"\"for every sample, calculate probability for every possible label\n",
        "    you need to supply your RNN model and maxlen - the length of sequences it can handle\n",
        "    \"\"\"\n",
        "    sample_lengths = map(len, samples)\n",
        "    assert all(l > maxlend for l in sample_lengths)\n",
        "    assert all(l[maxlend] == eos for l in samples)\n",
        "    # pad from right (post) so the first maxlend will be description followed by headline\n",
        "    data = sequence.pad_sequences(samples, maxlen=maxlen, value=empty, padding='post', truncating='post')\n",
        "    probs = model.predict(data, verbose=0, batch_size=batch_size)\n",
        "    return np.array([prob[sample_length-maxlend-1] for prob, sample_length in zip(probs, sample_lengths)])"
      ],
      "execution_count": 0,
      "outputs": []
    },
    {
      "cell_type": "code",
      "metadata": {
        "id": "8prcmYZiv_N_",
        "colab_type": "code",
        "colab": {}
      },
      "source": [
        "def vocab_fold(xs):\n",
        "    \"\"\"convert list of word indexes that may contain words outside vocab_size to words inside.\n",
        "    If a word is outside, try first to use glove_idx2idx to find a similar word inside.\n",
        "    If none exist then replace all accurancies of the same unknown word with <0>, <1>, ...\n",
        "    \"\"\"\n",
        "    xs = [x if x < oov0 else glove_idx2idx.get(x,x) for x in xs]\n",
        "    # the more popular word is <0> and so on\n",
        "    outside = sorted([x for x in xs if x >= oov0])\n",
        "    # if there are more than nb_unknown_words oov words then put them all in nb_unknown_words-1\n",
        "    outside = dict((x,vocab_size-1-min(i, nb_unknown_words-1)) for i, x in enumerate(outside))\n",
        "    xs = [outside.get(x,x) for x in xs]\n",
        "    return xs"
      ],
      "execution_count": 0,
      "outputs": []
    },
    {
      "cell_type": "code",
      "metadata": {
        "id": "-wnHnY-pv_OF",
        "colab_type": "code",
        "colab": {}
      },
      "source": [
        "def vocab_unfold(desc,xs):\n",
        "    # assume desc is the unfolded version of the start of xs\n",
        "    unfold = {}\n",
        "    for i, unfold_idx in enumerate(desc):\n",
        "        fold_idx = xs[i]\n",
        "        if fold_idx >= oov0:\n",
        "            unfold[fold_idx] = unfold_idx\n",
        "    return [unfold.get(x,x) for x in xs]"
      ],
      "execution_count": 0,
      "outputs": []
    },
    {
      "cell_type": "code",
      "metadata": {
        "id": "8DxniYfVv_OH",
        "colab_type": "code",
        "colab": {}
      },
      "source": [
        "import sys\n",
        "import Levenshtein\n",
        "\n",
        "def gensamples(skips=2, k=10, batch_size=batch_size, short=True, temperature=1., use_unk=True):\n",
        "    i = random.randint(0,len(X_test)-1)\n",
        "    print 'HEAD:',' '.join(idx2word[w] for w in Y_test[i][:maxlenh])\n",
        "    print 'DESC:',' '.join(idx2word[w] for w in X_test[i][:maxlend])\n",
        "    sys.stdout.flush()\n",
        "\n",
        "    print 'HEADS:'\n",
        "    x = X_test[i]\n",
        "    samples = []\n",
        "    if maxlend == 0:\n",
        "        skips = [0]\n",
        "    else:\n",
        "        skips = range(min(maxlend,len(x)), max(maxlend,len(x)), abs(maxlend - len(x)) // skips + 1)\n",
        "    for s in skips:\n",
        "        start = lpadd(x[:s])\n",
        "        fold_start = vocab_fold(start)\n",
        "        sample, score = beamsearch(predict=keras_rnn_predict, start=fold_start, k=k, temperature=temperature, use_unk=use_unk)\n",
        "        assert all(s[maxlend] == eos for s in sample)\n",
        "        samples += [(s,start,scr) for s,scr in zip(sample,score)]\n",
        "\n",
        "    samples.sort(key=lambda x: x[-1])\n",
        "    codes = []\n",
        "    for sample, start, score in samples:\n",
        "        code = ''\n",
        "        words = []\n",
        "        sample = vocab_unfold(start, sample)[len(start):]\n",
        "        for w in sample:\n",
        "            if w == eos:\n",
        "                break\n",
        "            words.append(idx2word[w])\n",
        "            code += chr(w//(256*256)) + chr((w//256)%256) + chr(w%256)\n",
        "        if short:\n",
        "            distance = min([100] + [-Levenshtein.jaro(code,c) for c in codes])\n",
        "            if distance > -0.6:\n",
        "                print score, ' '.join(words)\n",
        "        #         print '%s (%.2f) %f'%(' '.join(words), score, distance)\n"
      ],
      "execution_count": 0,
      "outputs": []
    },
    {
      "cell_type": "code",
      "metadata": {
        "id": "FNv0k8Div_OI",
        "colab_type": "code",
        "colab": {}
      },
      "source": [
        "gensamples(skips=2, batch_size=batch_size, k=10, temperature=1.)"
      ],
      "execution_count": 0,
      "outputs": []
    },
    {
      "cell_type": "markdown",
      "metadata": {
        "id": "1sriQDmkv_ON",
        "colab_type": "text"
      },
      "source": [
        "# Data generator"
      ]
    },
    {
      "cell_type": "markdown",
      "metadata": {
        "id": "6ZB86R8Kv_OO",
        "colab_type": "text"
      },
      "source": [
        "Data generator generates batches of inputs and outputs/labels for training. The inputs are each made from two parts. The first maxlend words are the original description, followed by `eos` followed by the headline which we want to predict, except for the last word in the headline which is always `eos` and then `empty` padding until `maxlen` words.\n",
        "\n",
        "For each, input, the output is the headline words (without the start `eos` but with the ending `eos`) padded with `empty` words up to `maxlenh` words. The output is also expanded to be y-hot encoding of each word."
      ]
    },
    {
      "cell_type": "markdown",
      "metadata": {
        "id": "3yd9lebuv_OP",
        "colab_type": "text"
      },
      "source": [
        "To be more realistic, the second part of the input should be the result of generation and not the original headline.\n",
        "Instead we will flip just `nflips` words to be from the generator, but even this is too hard and instead\n",
        "implement flipping in a naive way (which consumes less time.) Using the full input (description + eos + headline) generate predictions for outputs. For nflips random words from the output, replace the original word with the word with highest probability from the prediction."
      ]
    },
    {
      "cell_type": "code",
      "metadata": {
        "id": "YbhF2zcxv_OU",
        "colab_type": "code",
        "colab": {}
      },
      "source": [
        "def flip_headline(x, nflips=None, model=None, debug=False):\n",
        "    \"\"\"given a vectorized input (after `pad_sequences`) flip some of the words in the second half (headline)\n",
        "    with words predicted by the model\n",
        "    \"\"\"\n",
        "    if nflips is None or model is None or nflips <= 0:\n",
        "        return x\n",
        "    \n",
        "    batch_size = len(x)\n",
        "    assert np.all(x[:,maxlend] == eos)\n",
        "    probs = model.predict(x, verbose=0, batch_size=batch_size)\n",
        "    x_out = x.copy()\n",
        "    for b in range(batch_size):\n",
        "        # pick locations we want to flip\n",
        "        # 0...maxlend-1 are descriptions and should be fixed\n",
        "        # maxlend is eos and should be fixed\n",
        "        flips = sorted(random.sample(xrange(maxlend+1,maxlen), nflips))\n",
        "        if debug and b < debug:\n",
        "            print b,\n",
        "        for input_idx in flips:\n",
        "            if x[b,input_idx] == empty or x[b,input_idx] == eos:\n",
        "                continue\n",
        "            # convert from input location to label location\n",
        "            # the output at maxlend (when input is eos) is feed as input at maxlend+1\n",
        "            label_idx = input_idx - (maxlend+1)\n",
        "            prob = probs[b, label_idx]\n",
        "            w = prob.argmax()\n",
        "            if w == empty:  # replace accidental empty with oov\n",
        "                w = oov0\n",
        "            if debug and b < debug:\n",
        "                print '%s => %s'%(idx2word[x_out[b,input_idx]],idx2word[w]),\n",
        "            x_out[b,input_idx] = w\n",
        "        if debug and b < debug:\n",
        "            print\n",
        "    return x_out"
      ],
      "execution_count": 0,
      "outputs": []
    },
    {
      "cell_type": "code",
      "metadata": {
        "id": "jw7UZaUmv_OX",
        "colab_type": "code",
        "colab": {}
      },
      "source": [
        "def conv_seq_labels(xds, xhs, nflips=None, model=None, debug=False):\n",
        "    \"\"\"description and hedlines are converted to padded input vectors. headlines are one-hot to label\"\"\"\n",
        "    batch_size = len(xhs)\n",
        "    assert len(xds) == batch_size\n",
        "    x = [vocab_fold(lpadd(xd)+xh) for xd,xh in zip(xds,xhs)]  # the input does not have 2nd eos\n",
        "    x = sequence.pad_sequences(x, maxlen=maxlen, value=empty, padding='post', truncating='post')\n",
        "    x = flip_headline(x, nflips=nflips, model=model, debug=debug)\n",
        "    \n",
        "    y = np.zeros((batch_size, maxlenh, vocab_size))\n",
        "    for i, xh in enumerate(xhs):\n",
        "        xh = vocab_fold(xh) + [eos] + [empty]*maxlenh  # output does have a eos at end\n",
        "        xh = xh[:maxlenh]\n",
        "        y[i,:,:] = np_utils.to_categorical(xh, vocab_size)\n",
        "        \n",
        "    return x, y"
      ],
      "execution_count": 0,
      "outputs": []
    },
    {
      "cell_type": "code",
      "metadata": {
        "id": "HilH5Ol_v_Oc",
        "colab_type": "code",
        "colab": {}
      },
      "source": [
        "def gen(Xd, Xh, batch_size=batch_size, nb_batches=None, nflips=None, model=None, debug=False, seed=seed):\n",
        "    \"\"\"yield batches. for training use nb_batches=None\n",
        "    for validation generate deterministic results repeating every nb_batches\n",
        "    \n",
        "    while training it is good idea to flip once in a while the values of the headlines from the\n",
        "    value taken from Xh to value generated by the model.\n",
        "    \"\"\"\n",
        "    c = nb_batches if nb_batches else 0\n",
        "    while True:\n",
        "        xds = []\n",
        "        xhs = []\n",
        "        if nb_batches and c >= nb_batches:\n",
        "            c = 0\n",
        "        new_seed = random.randint(0, sys.maxint)\n",
        "        random.seed(c+123456789+seed)\n",
        "        for b in range(batch_size):\n",
        "            t = random.randint(0,len(Xd)-1)\n",
        "\n",
        "            xd = Xd[t]\n",
        "            s = random.randint(min(maxlend,len(xd)), max(maxlend,len(xd)))\n",
        "            xds.append(xd[:s])\n",
        "            \n",
        "            xh = Xh[t]\n",
        "            s = random.randint(min(maxlenh,len(xh)), max(maxlenh,len(xh)))\n",
        "            xhs.append(xh[:s])\n",
        "\n",
        "        # undo the seeding before we yield inorder not to affect the caller\n",
        "        c+= 1\n",
        "        random.seed(new_seed)\n",
        "\n",
        "        yield conv_seq_labels(xds, xhs, nflips=nflips, model=model, debug=debug)"
      ],
      "execution_count": 0,
      "outputs": []
    },
    {
      "cell_type": "code",
      "metadata": {
        "id": "1UWdizlDv_Od",
        "colab_type": "code",
        "colab": {}
      },
      "source": [
        "r = next(gen(X_train, Y_train, batch_size=batch_size))\n",
        "r[0].shape, r[1].shape, len(r)"
      ],
      "execution_count": 0,
      "outputs": []
    },
    {
      "cell_type": "code",
      "metadata": {
        "id": "K6wNOeJYv_Og",
        "colab_type": "code",
        "colab": {}
      },
      "source": [
        "def test_gen(gen, n=5):\n",
        "    Xtr,Ytr = next(gen)\n",
        "    for i in range(n):\n",
        "        assert Xtr[i,maxlend] == eos\n",
        "        x = Xtr[i,:maxlend]\n",
        "        y = Xtr[i,maxlend:]\n",
        "        yy = Ytr[i,:]\n",
        "        yy = np.where(yy)[1]\n",
        "        prt('L',yy)\n",
        "        prt('H',y)\n",
        "        if maxlend:\n",
        "            prt('D',x)"
      ],
      "execution_count": 0,
      "outputs": []
    },
    {
      "cell_type": "code",
      "metadata": {
        "id": "-JeH6l4fv_Ok",
        "colab_type": "code",
        "colab": {}
      },
      "source": [
        "test_gen(gen(X_train, Y_train, batch_size=batch_size))"
      ],
      "execution_count": 0,
      "outputs": []
    },
    {
      "cell_type": "markdown",
      "metadata": {
        "id": "GWpXiqVqv_On",
        "colab_type": "text"
      },
      "source": [
        "test fliping"
      ]
    },
    {
      "cell_type": "code",
      "metadata": {
        "id": "FhKVzY6wv_On",
        "colab_type": "code",
        "colab": {}
      },
      "source": [
        "test_gen(gen(X_train, Y_train, nflips=6, model=model, debug=False, batch_size=batch_size))"
      ],
      "execution_count": 0,
      "outputs": []
    },
    {
      "cell_type": "code",
      "metadata": {
        "id": "WPModfjEv_Or",
        "colab_type": "code",
        "colab": {}
      },
      "source": [
        "valgen = gen(X_test, Y_test,nb_batches=3, batch_size=batch_size)"
      ],
      "execution_count": 0,
      "outputs": []
    },
    {
      "cell_type": "markdown",
      "metadata": {
        "id": "RCOXSc4ov_Os",
        "colab_type": "text"
      },
      "source": [
        "check that valgen repeats itself after nb_batches"
      ]
    },
    {
      "cell_type": "code",
      "metadata": {
        "id": "L9oHHyzkv_Ox",
        "colab_type": "code",
        "colab": {}
      },
      "source": [
        "for i in range(4):\n",
        "    test_gen(valgen, n=1)"
      ],
      "execution_count": 0,
      "outputs": []
    },
    {
      "cell_type": "markdown",
      "metadata": {
        "id": "aPXj-g3Lv_Oz",
        "colab_type": "text"
      },
      "source": [
        "# Train"
      ]
    },
    {
      "cell_type": "code",
      "metadata": {
        "id": "GFka_JQqv_O0",
        "colab_type": "code",
        "colab": {}
      },
      "source": [
        "history = {}"
      ],
      "execution_count": 0,
      "outputs": []
    },
    {
      "cell_type": "code",
      "metadata": {
        "id": "Y3qX_eK_v_O2",
        "colab_type": "code",
        "colab": {}
      },
      "source": [
        "traingen = gen(X_train, Y_train, batch_size=batch_size, nflips=nflips, model=model)\n",
        "valgen = gen(X_test, Y_test, nb_batches=nb_val_samples//batch_size, batch_size=batch_size)"
      ],
      "execution_count": 0,
      "outputs": []
    },
    {
      "cell_type": "code",
      "metadata": {
        "id": "S-_G-oZqv_O-",
        "colab_type": "code",
        "colab": {}
      },
      "source": [
        "r = next(traingen)\n",
        "r[0].shape, r[1].shape, len(r)"
      ],
      "execution_count": 0,
      "outputs": []
    },
    {
      "cell_type": "code",
      "metadata": {
        "id": "jO4Xbb_Ov_PB",
        "colab_type": "code",
        "colab": {}
      },
      "source": [
        "for iteration in range(1):\n",
        "    print 'Iteration', iteration\n",
        "    h = model.fit_generator(traingen, samples_per_epoch=7000,\n",
        "                        nb_epoch=1, validation_data=valgen, nb_val_samples=nb_val_samples\n",
        "                           )\n",
        "    for k,v in h.history.iteritems():\n",
        "        history[k] = history.get(k,[]) + v\n",
        "    with open('/content/drive/My Drive/New_Dataset/%s.history.pkl'%FN,'wb') as fp:\n",
        "        pickle.dump(history,fp,-1)\n",
        "    model.save_weights('/content/drive/My Drive/New_Dataset/%s.hdf5'%FN, overwrite=True)\n",
        "    gensamples(batch_size=batch_size)"
      ],
      "execution_count": 0,
      "outputs": []
    }
  ]
}